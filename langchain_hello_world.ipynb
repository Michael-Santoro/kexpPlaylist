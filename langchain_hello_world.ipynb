{
 "cells": [
  {
   "attachments": {},
   "cell_type": "markdown",
   "metadata": {},
   "source": [
    "# Introduction"
   ]
  },
  {
   "cell_type": "code",
   "execution_count": 1,
   "metadata": {},
   "outputs": [],
   "source": [
    "from langchain.llms import OpenAI\n",
    "\n",
    "llm = OpenAI(temperature=0.9)\n"
   ]
  },
  {
   "cell_type": "code",
   "execution_count": 2,
   "metadata": {},
   "outputs": [
    {
     "name": "stdout",
     "output_type": "stream",
     "text": [
      "\n",
      "\n",
      "There is no one-size-fits-all answer to this question, as it really depends on individual preference. Some popular dog names include Charlie, Max, Daisy, Coco, Buddy, Bailey, and Stella.\n"
     ]
    }
   ],
   "source": [
    "text = \"what is a good dog name?\"\n",
    "print(llm(text))"
   ]
  },
  {
   "cell_type": "code",
   "execution_count": 3,
   "metadata": {},
   "outputs": [
    {
     "name": "stdout",
     "output_type": "stream",
     "text": [
      "\n",
      "\n",
      "Today's date is April 15th, 2020.\n"
     ]
    }
   ],
   "source": [
    "text = \"what is today's date?\"\n",
    "print(llm(text))"
   ]
  },
  {
   "attachments": {},
   "cell_type": "markdown",
   "metadata": {},
   "source": [
    "# Prompt Template"
   ]
  },
  {
   "cell_type": "code",
   "execution_count": 4,
   "metadata": {},
   "outputs": [],
   "source": [
    "from langchain.prompts import PromptTemplate\n",
    "\n",
    "prompt = PromptTemplate(\n",
    "    input_variables=['animal'],\n",
    "    template=\"what is a good {animal} name?\"\n",
    ")"
   ]
  },
  {
   "cell_type": "code",
   "execution_count": 6,
   "metadata": {},
   "outputs": [
    {
     "name": "stdout",
     "output_type": "stream",
     "text": [
      "what is a good bird name?\n"
     ]
    }
   ],
   "source": [
    "print(prompt.format(animal='bird'))"
   ]
  },
  {
   "attachments": {},
   "cell_type": "markdown",
   "metadata": {},
   "source": [
    "# Chain"
   ]
  },
  {
   "cell_type": "code",
   "execution_count": 7,
   "metadata": {},
   "outputs": [],
   "source": [
    "from langchain.chains import LLMChain\n",
    "chain = LLMChain(llm=llm, prompt=prompt)"
   ]
  },
  {
   "cell_type": "code",
   "execution_count": 8,
   "metadata": {},
   "outputs": [
    {
     "name": "stdout",
     "output_type": "stream",
     "text": [
      "\n",
      "\n",
      "Kiwi, Phoenix, Jet, Jules, Skylar, Coco, Rio, Ollie, Daisy, Saffron.\n"
     ]
    }
   ],
   "source": [
    "print(chain.run(\"bird\"))"
   ]
  },
  {
   "attachments": {},
   "cell_type": "markdown",
   "metadata": {},
   "source": [
    "# Tools\n",
    "since the Kexp is a django rest api. I plan to use the requests langchain module."
   ]
  },
  {
   "cell_type": "code",
   "execution_count": 9,
   "metadata": {},
   "outputs": [],
   "source": [
    "from langchain.agents import load_tools\n",
    "\n",
    "requests_tools = load_tools([\"requests_all\"])"
   ]
  },
  {
   "cell_type": "code",
   "execution_count": 10,
   "metadata": {},
   "outputs": [
    {
     "data": {
      "text/plain": [
       "[RequestsGetTool(name='requests_get', description='A portal to the internet. Use this when you need to get specific content from a website. Input should be a  url (i.e. https://www.google.com). The output will be the text response of the GET request.', args_schema=None, return_direct=False, verbose=False, callbacks=None, callback_manager=None, requests_wrapper=TextRequestsWrapper(headers=None, aiosession=None)),\n",
       " RequestsPostTool(name='requests_post', description='Use this when you want to POST to a website.\\n    Input should be a json string with two keys: \"url\" and \"data\".\\n    The value of \"url\" should be a string, and the value of \"data\" should be a dictionary of \\n    key-value pairs you want to POST to the url.\\n    Be careful to always use double quotes for strings in the json string\\n    The output will be the text response of the POST request.\\n    ', args_schema=None, return_direct=False, verbose=False, callbacks=None, callback_manager=None, requests_wrapper=TextRequestsWrapper(headers=None, aiosession=None)),\n",
       " RequestsPatchTool(name='requests_patch', description='Use this when you want to PATCH to a website.\\n    Input should be a json string with two keys: \"url\" and \"data\".\\n    The value of \"url\" should be a string, and the value of \"data\" should be a dictionary of \\n    key-value pairs you want to PATCH to the url.\\n    Be careful to always use double quotes for strings in the json string\\n    The output will be the text response of the PATCH request.\\n    ', args_schema=None, return_direct=False, verbose=False, callbacks=None, callback_manager=None, requests_wrapper=TextRequestsWrapper(headers=None, aiosession=None)),\n",
       " RequestsPutTool(name='requests_put', description='Use this when you want to PUT to a website.\\n    Input should be a json string with two keys: \"url\" and \"data\".\\n    The value of \"url\" should be a string, and the value of \"data\" should be a dictionary of \\n    key-value pairs you want to PUT to the url.\\n    Be careful to always use double quotes for strings in the json string.\\n    The output will be the text response of the PUT request.\\n    ', args_schema=None, return_direct=False, verbose=False, callbacks=None, callback_manager=None, requests_wrapper=TextRequestsWrapper(headers=None, aiosession=None)),\n",
       " RequestsDeleteTool(name='requests_delete', description='A portal to the internet. Use this when you need to make a DELETE request to a URL. Input should be a specific url, and the output will be the text response of the DELETE request.', args_schema=None, return_direct=False, verbose=False, callbacks=None, callback_manager=None, requests_wrapper=TextRequestsWrapper(headers=None, aiosession=None))]"
      ]
     },
     "execution_count": 10,
     "metadata": {},
     "output_type": "execute_result"
    }
   ],
   "source": [
    "requests_tools"
   ]
  },
  {
   "cell_type": "code",
   "execution_count": 11,
   "metadata": {},
   "outputs": [
    {
     "data": {
      "text/plain": [
       "TextRequestsWrapper(headers=None, aiosession=None)"
      ]
     },
     "execution_count": 11,
     "metadata": {},
     "output_type": "execute_result"
    }
   ],
   "source": [
    "# Each tool wrapps a requests wrapper\n",
    "requests_tools[0].requests_wrapper"
   ]
  },
  {
   "cell_type": "code",
   "execution_count": 13,
   "metadata": {},
   "outputs": [],
   "source": [
    "from langchain.utilities import TextRequestsWrapper\n",
    "requests = TextRequestsWrapper()\n"
   ]
  },
  {
   "cell_type": "code",
   "execution_count": 14,
   "metadata": {},
   "outputs": [],
   "source": [
    "result = requests.get('https://api.kexp.org/v1/host/?format=json')"
   ]
  },
  {
   "cell_type": "code",
   "execution_count": 15,
   "metadata": {},
   "outputs": [
    {
     "data": {
      "text/plain": [
       "'{\"count\":91,\"next\":\"https://api.kexp.org/v1/host/?format=json&limit=20&offset=20\",\"previous\":null,\"results\":[{\"hostid\":1,\"name\":\"Abbie\",\"imageuri\":\"https://www.kexp.org/filer/canonical/1583367137/22022/\",\"newimageuri\":\"https://www.kexp.org/filer/canonical/1583367137/22022/\",\"isactive\":true},{\"hostid\":70,\"name\":\"Abe Beeson\",\"imageuri\":\"https://kexpstorage.blob.core.windows.net/images/hosts/111328\",\"newimageuri\":\"https://kexpstorage.blob.core.windows.net/images/hosts/111328\",\"isactive\":false},{\"hostid\":85,\"name\":\"Albina Cabrera\",\"imageuri\":\"https://www.kexp.org/filer/canonical/1595547860/23074/\",\"newimageuri\":\"https://www.kexp.org/filer/canonical/1595547860/23074/\",\"isactive\":true},{\"hostid\":65,\"name\":\"Amanda Wilde\",\"imageuri\":\"\",\"newimageuri\":\"\",\"isactive\":false},{\"hostid\":2,\"name\":\"Atticus\",\"imageuri\":\"https://www.kexp.org/filer/canonical/1583367421/22023/\",\"newimageuri\":\"https://www.kexp.org/filer/canonical/1583367421/22023/\",\"isactive\":true},{\"hostid\":58,\"name\":\"B-Mello\",\"imageuri\":\"\",\"newimageuri\":\"\",\"isactive\":false},{\"hostid\":3,\"name\":\"Brian Foss\",\"imageuri\":\"https://www.kexp.org/filer/canonical/1529969446/10628/\",\"newimageuri\":\"https://www.kexp.org/filer/canonical/1529969446/10628/\",\"isactive\":true},{\"hostid\":49,\"name\":\"Brit Hansen\",\"imageuri\":\"https://www.kexp.org/media/filer_public/96/b6/96b62c4d-3f2f-4b24-a560-8bd79bf3c232/brit_hansen_2_of_3_thumbnail.jpg\",\"newimageuri\":\"https://www.kexp.org/media/filer_public/96/b6/96b62c4d-3f2f-4b24-a560-8bd79bf3c232/brit_hansen_2_of_3_thumbnail.jpg\",\"isactive\":true},{\"hostid\":4,\"name\":\"Cheryl Waters\",\"imageuri\":\"https://www.kexp.org/filer/canonical/1677703138/28520/\",\"newimageuri\":\"https://www.kexp.org/filer/canonical/1677703138/28520/\",\"isactive\":true},{\"hostid\":5,\"name\":\"Chilly\",\"imageuri\":\"https://www.kexp.org/filer/canonical/1529969228/10626/\",\"newimageuri\":\"https://www.kexp.org/filer/canonical/1529969228/10626/\",\"isactive\":true},{\"hostid\":79,\"name\":\"Dan Digs\",\"imageuri\":\"https://www.kexp.org/photos/345-Dan-Digs-sm.jpg\",\"newimageuri\":\"https://www.kexp.org/photos/345-Dan-Digs-sm.jpg\",\"isactive\":false},{\"hostid\":6,\"name\":\"Darek Mazzone\",\"imageuri\":\"https://www.kexp.org/filer/canonical/1583367478/22024/\",\"newimageuri\":\"https://www.kexp.org/filer/canonical/1583367478/22024/\",\"isactive\":true},{\"hostid\":7,\"name\":\"Diane Horn\",\"imageuri\":\"https://www.kexp.org/filer/canonical/1529969977/10632/\",\"newimageuri\":\"https://www.kexp.org/filer/canonical/1529969977/10632/\",\"isactive\":false},{\"hostid\":8,\"name\":\"DJ Alex\",\"imageuri\":\"https://www.kexp.org/filer/canonical/1529969764/10631/\",\"newimageuri\":\"https://www.kexp.org/filer/canonical/1529969764/10631/\",\"isactive\":true},{\"hostid\":9,\"name\":\"DJ El Toro\",\"imageuri\":\"https://kexpstorage.blob.core.windows.net/images/hosts/111335\",\"newimageuri\":\"https://kexpstorage.blob.core.windows.net/images/hosts/111335\",\"isactive\":false},{\"hostid\":10,\"name\":\"DJ Jay\",\"imageuri\":\"\",\"newimageuri\":\"\",\"isactive\":false},{\"hostid\":11,\"name\":\"DJ Miss Ashley\",\"imageuri\":\"https://www.kexp.org/filer/canonical/1657727406/27321/\",\"newimageuri\":\"https://www.kexp.org/filer/canonical/1657727406/27321/\",\"isactive\":true},{\"hostid\":75,\"name\":\"DJ Mr Smith\",\"imageuri\":\"https://kexpstorage.blob.core.windows.net/images/hosts/111337\",\"newimageuri\":\"https://kexpstorage.blob.core.windows.net/images/hosts/111337\",\"isactive\":false},{\"hostid\":12,\"name\":\"DJ Rhythma\",\"imageuri\":\"https://www.kexp.org/filer/canonical/1529968860/10624/\",\"newimageuri\":\"https://www.kexp.org/filer/canonical/1529968860/10624/\",\"isactive\":true},{\"hostid\":13,\"name\":\"DJ Riz\",\"imageuri\":\"https://www.kexp.org/filer/canonical/1583367907/22029/\",\"newimageuri\":\"https://www.kexp.org/filer/canonical/1583367907/22029/\",\"isactive\":true}]}'"
      ]
     },
     "execution_count": 15,
     "metadata": {},
     "output_type": "execute_result"
    }
   ],
   "source": [
    "result"
   ]
  },
  {
   "attachments": {},
   "cell_type": "markdown",
   "metadata": {},
   "source": [
    "# JSON to DF"
   ]
  },
  {
   "cell_type": "code",
   "execution_count": 16,
   "metadata": {},
   "outputs": [
    {
     "name": "stdout",
     "output_type": "stream",
     "text": [
      "{'count': 91, 'next': 'https://api.kexp.org/v1/host/?format=json&limit=20&offset=20', 'previous': None, 'results': [{'hostid': 1, 'name': 'Abbie', 'imageuri': 'https://www.kexp.org/filer/canonical/1583367137/22022/', 'newimageuri': 'https://www.kexp.org/filer/canonical/1583367137/22022/', 'isactive': True}, {'hostid': 70, 'name': 'Abe Beeson', 'imageuri': 'https://kexpstorage.blob.core.windows.net/images/hosts/111328', 'newimageuri': 'https://kexpstorage.blob.core.windows.net/images/hosts/111328', 'isactive': False}, {'hostid': 85, 'name': 'Albina Cabrera', 'imageuri': 'https://www.kexp.org/filer/canonical/1595547860/23074/', 'newimageuri': 'https://www.kexp.org/filer/canonical/1595547860/23074/', 'isactive': True}, {'hostid': 65, 'name': 'Amanda Wilde', 'imageuri': '', 'newimageuri': '', 'isactive': False}, {'hostid': 2, 'name': 'Atticus', 'imageuri': 'https://www.kexp.org/filer/canonical/1583367421/22023/', 'newimageuri': 'https://www.kexp.org/filer/canonical/1583367421/22023/', 'isactive': True}, {'hostid': 58, 'name': 'B-Mello', 'imageuri': '', 'newimageuri': '', 'isactive': False}, {'hostid': 3, 'name': 'Brian Foss', 'imageuri': 'https://www.kexp.org/filer/canonical/1529969446/10628/', 'newimageuri': 'https://www.kexp.org/filer/canonical/1529969446/10628/', 'isactive': True}, {'hostid': 49, 'name': 'Brit Hansen', 'imageuri': 'https://www.kexp.org/media/filer_public/96/b6/96b62c4d-3f2f-4b24-a560-8bd79bf3c232/brit_hansen_2_of_3_thumbnail.jpg', 'newimageuri': 'https://www.kexp.org/media/filer_public/96/b6/96b62c4d-3f2f-4b24-a560-8bd79bf3c232/brit_hansen_2_of_3_thumbnail.jpg', 'isactive': True}, {'hostid': 4, 'name': 'Cheryl Waters', 'imageuri': 'https://www.kexp.org/filer/canonical/1677703138/28520/', 'newimageuri': 'https://www.kexp.org/filer/canonical/1677703138/28520/', 'isactive': True}, {'hostid': 5, 'name': 'Chilly', 'imageuri': 'https://www.kexp.org/filer/canonical/1529969228/10626/', 'newimageuri': 'https://www.kexp.org/filer/canonical/1529969228/10626/', 'isactive': True}, {'hostid': 79, 'name': 'Dan Digs', 'imageuri': 'https://www.kexp.org/photos/345-Dan-Digs-sm.jpg', 'newimageuri': 'https://www.kexp.org/photos/345-Dan-Digs-sm.jpg', 'isactive': False}, {'hostid': 6, 'name': 'Darek Mazzone', 'imageuri': 'https://www.kexp.org/filer/canonical/1583367478/22024/', 'newimageuri': 'https://www.kexp.org/filer/canonical/1583367478/22024/', 'isactive': True}, {'hostid': 7, 'name': 'Diane Horn', 'imageuri': 'https://www.kexp.org/filer/canonical/1529969977/10632/', 'newimageuri': 'https://www.kexp.org/filer/canonical/1529969977/10632/', 'isactive': False}, {'hostid': 8, 'name': 'DJ Alex', 'imageuri': 'https://www.kexp.org/filer/canonical/1529969764/10631/', 'newimageuri': 'https://www.kexp.org/filer/canonical/1529969764/10631/', 'isactive': True}, {'hostid': 9, 'name': 'DJ El Toro', 'imageuri': 'https://kexpstorage.blob.core.windows.net/images/hosts/111335', 'newimageuri': 'https://kexpstorage.blob.core.windows.net/images/hosts/111335', 'isactive': False}, {'hostid': 10, 'name': 'DJ Jay', 'imageuri': '', 'newimageuri': '', 'isactive': False}, {'hostid': 11, 'name': 'DJ Miss Ashley', 'imageuri': 'https://www.kexp.org/filer/canonical/1657727406/27321/', 'newimageuri': 'https://www.kexp.org/filer/canonical/1657727406/27321/', 'isactive': True}, {'hostid': 75, 'name': 'DJ Mr Smith', 'imageuri': 'https://kexpstorage.blob.core.windows.net/images/hosts/111337', 'newimageuri': 'https://kexpstorage.blob.core.windows.net/images/hosts/111337', 'isactive': False}, {'hostid': 12, 'name': 'DJ Rhythma', 'imageuri': 'https://www.kexp.org/filer/canonical/1529968860/10624/', 'newimageuri': 'https://www.kexp.org/filer/canonical/1529968860/10624/', 'isactive': True}, {'hostid': 13, 'name': 'DJ Riz', 'imageuri': 'https://www.kexp.org/filer/canonical/1583367907/22029/', 'newimageuri': 'https://www.kexp.org/filer/canonical/1583367907/22029/', 'isactive': True}]}\n"
     ]
    }
   ],
   "source": [
    "import json\n",
    "\n",
    "# Parse the JSON string to a dictionary\n",
    "data = json.loads(result)\n",
    "\n",
    "# Print the dictionary\n",
    "print(data)\n"
   ]
  },
  {
   "cell_type": "code",
   "execution_count": 17,
   "metadata": {},
   "outputs": [
    {
     "data": {
      "text/plain": [
       "dict_keys(['count', 'next', 'previous', 'results'])"
      ]
     },
     "execution_count": 17,
     "metadata": {},
     "output_type": "execute_result"
    }
   ],
   "source": [
    "data.keys()"
   ]
  },
  {
   "cell_type": "code",
   "execution_count": 20,
   "metadata": {},
   "outputs": [
    {
     "data": {
      "text/html": [
       "<div>\n",
       "<style scoped>\n",
       "    .dataframe tbody tr th:only-of-type {\n",
       "        vertical-align: middle;\n",
       "    }\n",
       "\n",
       "    .dataframe tbody tr th {\n",
       "        vertical-align: top;\n",
       "    }\n",
       "\n",
       "    .dataframe thead th {\n",
       "        text-align: right;\n",
       "    }\n",
       "</style>\n",
       "<table border=\"1\" class=\"dataframe\">\n",
       "  <thead>\n",
       "    <tr style=\"text-align: right;\">\n",
       "      <th></th>\n",
       "      <th>hostid</th>\n",
       "      <th>name</th>\n",
       "      <th>imageuri</th>\n",
       "      <th>newimageuri</th>\n",
       "      <th>isactive</th>\n",
       "    </tr>\n",
       "  </thead>\n",
       "  <tbody>\n",
       "    <tr>\n",
       "      <th>0</th>\n",
       "      <td>1</td>\n",
       "      <td>Abbie</td>\n",
       "      <td>https://www.kexp.org/filer/canonical/158336713...</td>\n",
       "      <td>https://www.kexp.org/filer/canonical/158336713...</td>\n",
       "      <td>True</td>\n",
       "    </tr>\n",
       "    <tr>\n",
       "      <th>1</th>\n",
       "      <td>70</td>\n",
       "      <td>Abe Beeson</td>\n",
       "      <td>https://kexpstorage.blob.core.windows.net/imag...</td>\n",
       "      <td>https://kexpstorage.blob.core.windows.net/imag...</td>\n",
       "      <td>False</td>\n",
       "    </tr>\n",
       "    <tr>\n",
       "      <th>2</th>\n",
       "      <td>85</td>\n",
       "      <td>Albina Cabrera</td>\n",
       "      <td>https://www.kexp.org/filer/canonical/159554786...</td>\n",
       "      <td>https://www.kexp.org/filer/canonical/159554786...</td>\n",
       "      <td>True</td>\n",
       "    </tr>\n",
       "    <tr>\n",
       "      <th>3</th>\n",
       "      <td>65</td>\n",
       "      <td>Amanda Wilde</td>\n",
       "      <td></td>\n",
       "      <td></td>\n",
       "      <td>False</td>\n",
       "    </tr>\n",
       "    <tr>\n",
       "      <th>4</th>\n",
       "      <td>2</td>\n",
       "      <td>Atticus</td>\n",
       "      <td>https://www.kexp.org/filer/canonical/158336742...</td>\n",
       "      <td>https://www.kexp.org/filer/canonical/158336742...</td>\n",
       "      <td>True</td>\n",
       "    </tr>\n",
       "    <tr>\n",
       "      <th>5</th>\n",
       "      <td>58</td>\n",
       "      <td>B-Mello</td>\n",
       "      <td></td>\n",
       "      <td></td>\n",
       "      <td>False</td>\n",
       "    </tr>\n",
       "    <tr>\n",
       "      <th>6</th>\n",
       "      <td>3</td>\n",
       "      <td>Brian Foss</td>\n",
       "      <td>https://www.kexp.org/filer/canonical/152996944...</td>\n",
       "      <td>https://www.kexp.org/filer/canonical/152996944...</td>\n",
       "      <td>True</td>\n",
       "    </tr>\n",
       "    <tr>\n",
       "      <th>7</th>\n",
       "      <td>49</td>\n",
       "      <td>Brit Hansen</td>\n",
       "      <td>https://www.kexp.org/media/filer_public/96/b6/...</td>\n",
       "      <td>https://www.kexp.org/media/filer_public/96/b6/...</td>\n",
       "      <td>True</td>\n",
       "    </tr>\n",
       "    <tr>\n",
       "      <th>8</th>\n",
       "      <td>4</td>\n",
       "      <td>Cheryl Waters</td>\n",
       "      <td>https://www.kexp.org/filer/canonical/167770313...</td>\n",
       "      <td>https://www.kexp.org/filer/canonical/167770313...</td>\n",
       "      <td>True</td>\n",
       "    </tr>\n",
       "    <tr>\n",
       "      <th>9</th>\n",
       "      <td>5</td>\n",
       "      <td>Chilly</td>\n",
       "      <td>https://www.kexp.org/filer/canonical/152996922...</td>\n",
       "      <td>https://www.kexp.org/filer/canonical/152996922...</td>\n",
       "      <td>True</td>\n",
       "    </tr>\n",
       "    <tr>\n",
       "      <th>10</th>\n",
       "      <td>79</td>\n",
       "      <td>Dan Digs</td>\n",
       "      <td>https://www.kexp.org/photos/345-Dan-Digs-sm.jpg</td>\n",
       "      <td>https://www.kexp.org/photos/345-Dan-Digs-sm.jpg</td>\n",
       "      <td>False</td>\n",
       "    </tr>\n",
       "    <tr>\n",
       "      <th>11</th>\n",
       "      <td>6</td>\n",
       "      <td>Darek Mazzone</td>\n",
       "      <td>https://www.kexp.org/filer/canonical/158336747...</td>\n",
       "      <td>https://www.kexp.org/filer/canonical/158336747...</td>\n",
       "      <td>True</td>\n",
       "    </tr>\n",
       "    <tr>\n",
       "      <th>12</th>\n",
       "      <td>7</td>\n",
       "      <td>Diane Horn</td>\n",
       "      <td>https://www.kexp.org/filer/canonical/152996997...</td>\n",
       "      <td>https://www.kexp.org/filer/canonical/152996997...</td>\n",
       "      <td>False</td>\n",
       "    </tr>\n",
       "    <tr>\n",
       "      <th>13</th>\n",
       "      <td>8</td>\n",
       "      <td>DJ Alex</td>\n",
       "      <td>https://www.kexp.org/filer/canonical/152996976...</td>\n",
       "      <td>https://www.kexp.org/filer/canonical/152996976...</td>\n",
       "      <td>True</td>\n",
       "    </tr>\n",
       "    <tr>\n",
       "      <th>14</th>\n",
       "      <td>9</td>\n",
       "      <td>DJ El Toro</td>\n",
       "      <td>https://kexpstorage.blob.core.windows.net/imag...</td>\n",
       "      <td>https://kexpstorage.blob.core.windows.net/imag...</td>\n",
       "      <td>False</td>\n",
       "    </tr>\n",
       "    <tr>\n",
       "      <th>15</th>\n",
       "      <td>10</td>\n",
       "      <td>DJ Jay</td>\n",
       "      <td></td>\n",
       "      <td></td>\n",
       "      <td>False</td>\n",
       "    </tr>\n",
       "    <tr>\n",
       "      <th>16</th>\n",
       "      <td>11</td>\n",
       "      <td>DJ Miss Ashley</td>\n",
       "      <td>https://www.kexp.org/filer/canonical/165772740...</td>\n",
       "      <td>https://www.kexp.org/filer/canonical/165772740...</td>\n",
       "      <td>True</td>\n",
       "    </tr>\n",
       "    <tr>\n",
       "      <th>17</th>\n",
       "      <td>75</td>\n",
       "      <td>DJ Mr Smith</td>\n",
       "      <td>https://kexpstorage.blob.core.windows.net/imag...</td>\n",
       "      <td>https://kexpstorage.blob.core.windows.net/imag...</td>\n",
       "      <td>False</td>\n",
       "    </tr>\n",
       "    <tr>\n",
       "      <th>18</th>\n",
       "      <td>12</td>\n",
       "      <td>DJ Rhythma</td>\n",
       "      <td>https://www.kexp.org/filer/canonical/152996886...</td>\n",
       "      <td>https://www.kexp.org/filer/canonical/152996886...</td>\n",
       "      <td>True</td>\n",
       "    </tr>\n",
       "    <tr>\n",
       "      <th>19</th>\n",
       "      <td>13</td>\n",
       "      <td>DJ Riz</td>\n",
       "      <td>https://www.kexp.org/filer/canonical/158336790...</td>\n",
       "      <td>https://www.kexp.org/filer/canonical/158336790...</td>\n",
       "      <td>True</td>\n",
       "    </tr>\n",
       "  </tbody>\n",
       "</table>\n",
       "</div>"
      ],
      "text/plain": [
       "    hostid            name                                           imageuri  \\\n",
       "0        1           Abbie  https://www.kexp.org/filer/canonical/158336713...   \n",
       "1       70      Abe Beeson  https://kexpstorage.blob.core.windows.net/imag...   \n",
       "2       85  Albina Cabrera  https://www.kexp.org/filer/canonical/159554786...   \n",
       "3       65    Amanda Wilde                                                      \n",
       "4        2         Atticus  https://www.kexp.org/filer/canonical/158336742...   \n",
       "5       58         B-Mello                                                      \n",
       "6        3      Brian Foss  https://www.kexp.org/filer/canonical/152996944...   \n",
       "7       49     Brit Hansen  https://www.kexp.org/media/filer_public/96/b6/...   \n",
       "8        4   Cheryl Waters  https://www.kexp.org/filer/canonical/167770313...   \n",
       "9        5          Chilly  https://www.kexp.org/filer/canonical/152996922...   \n",
       "10      79        Dan Digs    https://www.kexp.org/photos/345-Dan-Digs-sm.jpg   \n",
       "11       6   Darek Mazzone  https://www.kexp.org/filer/canonical/158336747...   \n",
       "12       7      Diane Horn  https://www.kexp.org/filer/canonical/152996997...   \n",
       "13       8         DJ Alex  https://www.kexp.org/filer/canonical/152996976...   \n",
       "14       9      DJ El Toro  https://kexpstorage.blob.core.windows.net/imag...   \n",
       "15      10          DJ Jay                                                      \n",
       "16      11  DJ Miss Ashley  https://www.kexp.org/filer/canonical/165772740...   \n",
       "17      75     DJ Mr Smith  https://kexpstorage.blob.core.windows.net/imag...   \n",
       "18      12      DJ Rhythma  https://www.kexp.org/filer/canonical/152996886...   \n",
       "19      13          DJ Riz  https://www.kexp.org/filer/canonical/158336790...   \n",
       "\n",
       "                                          newimageuri  isactive  \n",
       "0   https://www.kexp.org/filer/canonical/158336713...      True  \n",
       "1   https://kexpstorage.blob.core.windows.net/imag...     False  \n",
       "2   https://www.kexp.org/filer/canonical/159554786...      True  \n",
       "3                                                         False  \n",
       "4   https://www.kexp.org/filer/canonical/158336742...      True  \n",
       "5                                                         False  \n",
       "6   https://www.kexp.org/filer/canonical/152996944...      True  \n",
       "7   https://www.kexp.org/media/filer_public/96/b6/...      True  \n",
       "8   https://www.kexp.org/filer/canonical/167770313...      True  \n",
       "9   https://www.kexp.org/filer/canonical/152996922...      True  \n",
       "10    https://www.kexp.org/photos/345-Dan-Digs-sm.jpg     False  \n",
       "11  https://www.kexp.org/filer/canonical/158336747...      True  \n",
       "12  https://www.kexp.org/filer/canonical/152996997...     False  \n",
       "13  https://www.kexp.org/filer/canonical/152996976...      True  \n",
       "14  https://kexpstorage.blob.core.windows.net/imag...     False  \n",
       "15                                                        False  \n",
       "16  https://www.kexp.org/filer/canonical/165772740...      True  \n",
       "17  https://kexpstorage.blob.core.windows.net/imag...     False  \n",
       "18  https://www.kexp.org/filer/canonical/152996886...      True  \n",
       "19  https://www.kexp.org/filer/canonical/158336790...      True  "
      ]
     },
     "execution_count": 20,
     "metadata": {},
     "output_type": "execute_result"
    }
   ],
   "source": [
    "import pandas as pd\n",
    "pd.DataFrame(data['results'])"
   ]
  },
  {
   "cell_type": "code",
   "execution_count": 22,
   "metadata": {},
   "outputs": [],
   "source": [
    "from langchain.tools import StructuredTool\n",
    "\n",
    "def get_pandas(django_return: str) -> str:\n",
    "    '''Function takes raw json string and returns the results DataFrame'''\n",
    "    # Parse the JSON string to a dictionary\n",
    "    data = json.loads(django_return)\n",
    "    return pd.DataFrame(data['results'])\n",
    "\n",
    "tool = StructuredTool.from_function(get_pandas)"
   ]
  },
  {
   "attachments": {},
   "cell_type": "markdown",
   "metadata": {},
   "source": [
    "# DataFrame Agent"
   ]
  },
  {
   "cell_type": "code",
   "execution_count": 23,
   "metadata": {},
   "outputs": [],
   "source": [
    "from langchain.agents import create_pandas_dataframe_agent\n",
    "\n",
    "df = pd.DataFrame(data['results'])"
   ]
  },
  {
   "cell_type": "code",
   "execution_count": 25,
   "metadata": {},
   "outputs": [],
   "source": [
    "agent = create_pandas_dataframe_agent(OpenAI(temperature=0), df, verbose=True)"
   ]
  },
  {
   "cell_type": "code",
   "execution_count": 26,
   "metadata": {},
   "outputs": [
    {
     "name": "stdout",
     "output_type": "stream",
     "text": [
      "\n",
      "\n",
      "\u001b[1m> Entering new AgentExecutor chain...\u001b[0m\n",
      "\u001b[32;1m\u001b[1;3mThought: I need to count the number of rows where isactive is True\n",
      "Action: python_repl_ast\n",
      "Action Input: df[df['isactive'] == True].shape[0]\u001b[0m\n",
      "Observation: \u001b[36;1m\u001b[1;3m12\u001b[0m\n",
      "Thought:\u001b[32;1m\u001b[1;3m I now know the final answer\n",
      "Final Answer: There are 12 active DJs.\u001b[0m\n",
      "\n",
      "\u001b[1m> Finished chain.\u001b[0m\n"
     ]
    },
    {
     "data": {
      "text/plain": [
       "'There are 12 active DJs.'"
      ]
     },
     "execution_count": 26,
     "metadata": {},
     "output_type": "execute_result"
    }
   ],
   "source": [
    "agent.run(\"how many active DJs are there?\")"
   ]
  },
  {
   "cell_type": "code",
   "execution_count": 27,
   "metadata": {},
   "outputs": [
    {
     "data": {
      "text/plain": [
       "12"
      ]
     },
     "execution_count": 27,
     "metadata": {},
     "output_type": "execute_result"
    }
   ],
   "source": [
    "df.isactive.sum()"
   ]
  },
  {
   "cell_type": "code",
   "execution_count": null,
   "metadata": {},
   "outputs": [],
   "source": []
  }
 ],
 "metadata": {
  "kernelspec": {
   "display_name": "kexp",
   "language": "python",
   "name": "python3"
  },
  "language_info": {
   "codemirror_mode": {
    "name": "ipython",
    "version": 3
   },
   "file_extension": ".py",
   "mimetype": "text/x-python",
   "name": "python",
   "nbconvert_exporter": "python",
   "pygments_lexer": "ipython3",
   "version": "3.11.3"
  },
  "orig_nbformat": 4
 },
 "nbformat": 4,
 "nbformat_minor": 2
}
