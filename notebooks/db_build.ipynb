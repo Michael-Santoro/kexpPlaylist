{
 "cells": [
  {
   "cell_type": "markdown",
   "metadata": {},
   "source": [
    "## Create Tables in Data Base\n",
    "\n",
    "Tutorial [Link](https://colab.research.google.com/github/GoogleCloudPlatform/cloud-sql-python-connector/blob/main/samples/notebooks/mysql_python_connector.ipynb#scrollTo=wfEvH386zX2V)"
   ]
  },
  {
   "cell_type": "code",
   "execution_count": 2,
   "metadata": {},
   "outputs": [],
   "source": [
    "# !gcloud sql databases create kexpDB --instance=kexp-sandbox"
   ]
  },
  {
   "cell_type": "code",
   "execution_count": 14,
   "metadata": {},
   "outputs": [],
   "source": [
    "import google.auth\n",
    "\n",
    "credentials, project_id = google.auth.default()\n",
    "\n",
    "# install dependencies\n",
    "# pip install cloud-sql-python-connector[\"pymysql\"] SQLAlchemy==2.0.7\n",
    "\n",
    "import sys\n",
    "if '..' not in sys.path:\n",
    "    sys.path.append('..')\n",
    "\n",
    "from scripts.utils import openfile\n",
    "from scripts.utils import Hosts, Plays, Programs, Shows, Timeslots\n",
    "\n",
    "\n",
    "from google.cloud.sql.connector import Connector\n",
    "\n",
    "import sqlalchemy\n",
    "from sqlalchemy import MetaData\n",
    "from sqlalchemy.orm import sessionmaker\n",
    "from sqlalchemy.sql.expression import func\n",
    "\n",
    "from creds import user\n",
    "\n",
    "import requests\n",
    "import pandas as pd"
   ]
  },
  {
   "cell_type": "code",
   "execution_count": 2,
   "metadata": {},
   "outputs": [
    {
     "name": "stdout",
     "output_type": "stream",
     "text": [
      "Your instance connection name is: kexp-explore:us-central1:kexp-sandbox\n"
     ]
    }
   ],
   "source": [
    "# initialize parameters\n",
    "INSTANCE_CONNECTION_NAME = user['INSTANCE_CONNECTION_NAME']# i.e demo-project:us-central1:demo-instance\n",
    "print(f\"Your instance connection name is: {INSTANCE_CONNECTION_NAME}\")\n",
    "DB_USER = user['DB_USER']\n",
    "DB_PASS = user['DB_PASS']\n",
    "DB_NAME = user['DB_NAME']\n",
    "\n",
    "\n",
    "root_path = user['root_path']"
   ]
  },
  {
   "cell_type": "code",
   "execution_count": 3,
   "metadata": {},
   "outputs": [],
   "source": [
    "\n",
    "\n",
    "# initialize Connector object\n",
    "connector = Connector()\n",
    "\n",
    "# function to return the database connection object\n",
    "def getconn():\n",
    "    conn = connector.connect(\n",
    "        INSTANCE_CONNECTION_NAME,\n",
    "        \"pymysql\",\n",
    "        user=DB_USER,\n",
    "        password=DB_PASS,\n",
    "        db=DB_NAME\n",
    "    )\n",
    "    return conn\n",
    "\n",
    "# create connection pool with 'creator' argument to our connection object function\n",
    "pool = sqlalchemy.create_engine(\n",
    "    \"mysql+pymysql://\",\n",
    "    creator=getconn,\n",
    ")\n",
    "\n",
    "engine = pool"
   ]
  },
  {
   "cell_type": "code",
   "execution_count": 4,
   "metadata": {},
   "outputs": [
    {
     "name": "stdout",
     "output_type": "stream",
     "text": [
      "Table name: hosts\n",
      "Table name: plays\n",
      "Table name: programs\n",
      "Table name: shows\n",
      "Table name: timeslots\n"
     ]
    }
   ],
   "source": [
    "# Create a MetaData object\n",
    "metadata = MetaData()\n",
    "\n",
    "# Reflect the existing database schema into the MetaData object\n",
    "metadata.reflect(bind=engine)\n",
    "\n",
    "# Access information about tables in the 'tables' dictionary attribute\n",
    "for table_name, table in metadata.tables.items():\n",
    "    print(f\"Table name: {table_name}\")\n",
    "    # Access columns, constraints, etc. through the 'table' object\n"
   ]
  },
  {
   "cell_type": "code",
   "execution_count": 5,
   "metadata": {},
   "outputs": [
    {
     "data": {
      "text/plain": [
       "dict_items([('hosts', Table('hosts', MetaData(), Column('id', INTEGER(), table=<hosts>, primary_key=True, nullable=False), Column('uri', VARCHAR(length=255), table=<hosts>, nullable=False), Column('name', VARCHAR(length=100), table=<hosts>, nullable=False), Column('image_uri', VARCHAR(length=255), table=<hosts>), Column('thumbnail_uri', VARCHAR(length=255), table=<hosts>), Column('is_active', TINYINT(display_width=1), table=<hosts>, nullable=False), schema=None)), ('plays', Table('plays', MetaData(), Column('id', INTEGER(), table=<plays>, primary_key=True, nullable=False), Column('uri', VARCHAR(length=255), table=<plays>, nullable=False), Column('airdate', TIMESTAMP(), table=<plays>, nullable=False), Column('show_id', INTEGER(), table=<plays>, nullable=False), Column('song', VARCHAR(length=255), table=<plays>, nullable=False), Column('track_id', VARCHAR(length=255), table=<plays>, nullable=False), Column('recording_id', VARCHAR(length=255), table=<plays>, nullable=False), Column('artist', VARCHAR(length=255), table=<plays>, nullable=False), Column('album', VARCHAR(length=255), table=<plays>, nullable=False), Column('release_id', VARCHAR(length=255), table=<plays>), Column('release_group_id', VARCHAR(length=255), table=<plays>), Column('release_date', VARCHAR(length=255), table=<plays>), Column('is_local', TINYINT(display_width=1), table=<plays>), Column('is_request', TINYINT(display_width=1), table=<plays>), Column('is_live', TINYINT(display_width=1), table=<plays>), Column('comment', TEXT(), table=<plays>), schema=None)), ('programs', Table('programs', MetaData(), Column('id', INTEGER(), table=<programs>, primary_key=True, nullable=False), Column('uri', VARCHAR(length=255), table=<programs>, nullable=False), Column('name', VARCHAR(length=100), table=<programs>, nullable=False), Column('description', TEXT(), table=<programs>, nullable=False), Column('tags', VARCHAR(length=255), table=<programs>), Column('is_active', TINYINT(display_width=1), table=<programs>, nullable=False), schema=None)), ('shows', Table('shows', MetaData(), Column('id', INTEGER(), table=<shows>, primary_key=True, nullable=False), Column('uri', VARCHAR(length=255), table=<shows>, nullable=False), Column('program', INTEGER(), table=<shows>, nullable=False), Column('program_uri', VARCHAR(length=255), table=<shows>), Column('hosts', VARCHAR(length=2550), table=<shows>), Column('program_name', VARCHAR(length=255), table=<shows>), Column('program_tags', VARCHAR(length=255), table=<shows>), Column('tagline', TEXT(), table=<shows>), Column('image_uri', VARCHAR(length=255), table=<shows>), Column('start_time', TIMESTAMP(), table=<shows>, nullable=False), schema=None)), ('timeslots', Table('timeslots', MetaData(), Column('id', INTEGER(), table=<timeslots>, primary_key=True, nullable=False), Column('uri', VARCHAR(length=255), table=<timeslots>, nullable=False), Column('program', INTEGER(), table=<timeslots>, nullable=False), Column('program_uri', VARCHAR(length=255), table=<timeslots>), Column('program_name', VARCHAR(length=255), table=<timeslots>), Column('program_tags', VARCHAR(length=255), table=<timeslots>), Column('weekday', INTEGER(), table=<timeslots>), Column('start_date', DATE(), table=<timeslots>), Column('end_date', TIME(), table=<timeslots>), Column('start_time', TIME(), table=<timeslots>), Column('end_time', TIME(), table=<timeslots>), Column('duration', TIME(), table=<timeslots>), schema=None))])"
      ]
     },
     "execution_count": 5,
     "metadata": {},
     "output_type": "execute_result"
    }
   ],
   "source": [
    "metadata.tables.items()"
   ]
  },
  {
   "cell_type": "markdown",
   "metadata": {},
   "source": [
    "### GreenField Configuration"
   ]
  },
  {
   "cell_type": "code",
   "execution_count": 6,
   "metadata": {},
   "outputs": [
    {
     "name": "stdout",
     "output_type": "stream",
     "text": [
      "File contents:\n",
      "CREATE TABLE IF NOT EXISTS hosts (\n",
      "                id INT PRIMARY KEY,\n",
      "                uri VARCHAR(255) UNIQUE NOT NULL,\n",
      "                name VARCHAR(100) UNIQUE NOT NULL,\n",
      "                image_uri VARCHAR(255),\n",
      "                thumbnail_uri VARCHAR(255),\n",
      "                is_active BOOL NOT NULL\n",
      "            );\n",
      "File contents:\n",
      "CREATE TABLE IF NOT EXISTS plays (\n",
      "                id INT PRIMARY KEY,\n",
      "                uri VARCHAR(255) UNIQUE NOT NULL,\n",
      "                airdate TIMESTAMP NOT NULL,\n",
      "                show_id INT NOT NULL,\n",
      "                song VARCHAR(255) NOT NULL,\n",
      "                track_id VARCHAR(255) NOT NULL,\n",
      "                recording_id VARCHAR(255) NOT NULL,\n",
      "                artist VARCHAR(255) NOT NULL,\n",
      "                album VARCHAR(255) NOT NULL,\n",
      "                release_id VARCHAR(255),\n",
      "                release_group_id VARCHAR(255),\n",
      "                release_date VARCHAR(255),\n",
      "                is_local BOOL,\n",
      "                is_request BOOL,\n",
      "                is_live BOOL,\n",
      "                comment TEXT);\n",
      "File contents:\n",
      "CREATE TABLE IF NOT EXISTS programs (\n",
      "                id INT PRIMARY KEY,\n",
      "                uri VARCHAR(255) UNIQUE NOT NULL,\n",
      "                name VARCHAR(100) UNIQUE NOT NULL,\n",
      "                description TEXT NOT NULL,\n",
      "                tags VARCHAR(255),\n",
      "                is_active BOOL NOT NULL\n",
      "            );\n",
      "File contents:\n",
      "CREATE TABLE IF NOT EXISTS shows (\n",
      "                id INT PRIMARY KEY,\n",
      "                uri VARCHAR(255) UNIQUE NOT NULL,\n",
      "                program INT NOT NULL,\n",
      "                program_uri VARCHAR(255),\n",
      "                hosts VARCHAR(255),\n",
      "                program_name VARCHAR(255),\n",
      "                program_tags VARCHAR(255),\n",
      "                tagline TEXT,\n",
      "                image_uri VARCHAR(255),\n",
      "                start_time TIMESTAMP NOT NUll\n",
      "            );\n",
      "File contents:\n",
      "CREATE TABLE IF NOT EXISTS timeslots (\n",
      "                id INT PRIMARY KEY,\n",
      "                uri VARCHAR(255) UNIQUE NOT NULL,\n",
      "                program INT NOT NULL,\n",
      "                program_uri VARCHAR(255),\n",
      "                program_name VARCHAR(255),\n",
      "                program_tags VARCHAR(255),\n",
      "                weekday INT,\n",
      "                start_date DATE,\n",
      "                end_date DATE,\n",
      "                start_time TIME,\n",
      "                end_time TIME,\n",
      "                duration TIME\n",
      "            );\n"
     ]
    }
   ],
   "source": [
    "\n",
    "\n",
    "# connect to connection pool\n",
    "with pool.connect() as db_conn:\n",
    "  # create hosts table in our kexp-sandbox database\n",
    "  db_conn.execute(sqlalchemy.text(openfile(root_path+'hosts.sql')))\n",
    "\n",
    "  # commit transaction (SQLAlchemy v2.X.X is commit as you go)\n",
    "  db_conn.commit()\n",
    "\n",
    "  # create plays table in our kexp-sandbox database\n",
    "  db_conn.execute(sqlalchemy.text(openfile(root_path+'plays.sql')))\n",
    "\n",
    "  # commit transaction (SQLAlchemy v2.X.X is commit as you go)\n",
    "  db_conn.commit()\n",
    "\n",
    "  # create programs table in our kexp-sandbox database\n",
    "  db_conn.execute(sqlalchemy.text(openfile(root_path+'programs.sql')))\n",
    "\n",
    "  # commit transaction (SQLAlchemy v2.X.X is commit as you go)\n",
    "  db_conn.commit()\n",
    "\n",
    "  # create shows table in our kexp-sandbox database\n",
    "  db_conn.execute(sqlalchemy.text(openfile(root_path+'shows.sql')))\n",
    "\n",
    "  # commit transaction (SQLAlchemy v2.X.X is commit as you go)\n",
    "  db_conn.commit()\n",
    "\n",
    "  # create timeslots table in our kexp-sandbox database\n",
    "  db_conn.execute(sqlalchemy.text(openfile(root_path+'timeslots.sql')))\n",
    "\n",
    "  # commit transaction (SQLAlchemy v2.X.X is commit as you go)\n",
    "  db_conn.commit()\n"
   ]
  },
  {
   "cell_type": "code",
   "execution_count": 7,
   "metadata": {},
   "outputs": [
    {
     "name": "stdout",
     "output_type": "stream",
     "text": [
      "hosts\n",
      "plays\n",
      "programs\n",
      "shows\n",
      "timeslots\n"
     ]
    }
   ],
   "source": [
    "# Reflect the existing database schema into the MetaData object\n",
    "metadata.reflect(bind=engine)\n",
    "\n",
    "for t in metadata.tables.items():\n",
    "    print(t[0])"
   ]
  },
  {
   "cell_type": "markdown",
   "metadata": {},
   "source": [
    "## Populate Tables"
   ]
  },
  {
   "cell_type": "code",
   "execution_count": 8,
   "metadata": {},
   "outputs": [
    {
     "data": {
      "text/plain": [
       "{'hosts': 'https://api.kexp.org/v2/hosts/',\n",
       " 'programs': 'https://api.kexp.org/v2/programs/',\n",
       " 'shows': 'https://api.kexp.org/v2/shows/',\n",
       " 'plays': 'https://api.kexp.org/v2/plays/',\n",
       " 'timeslots': 'https://api.kexp.org/v2/timeslots/'}"
      ]
     },
     "execution_count": 8,
     "metadata": {},
     "output_type": "execute_result"
    }
   ],
   "source": [
    "r = requests.get('https://api.kexp.org/v2/')\n",
    "r.status_code\n",
    "\n",
    "urls = r.json()\n",
    "urls"
   ]
  },
  {
   "cell_type": "markdown",
   "metadata": {},
   "source": [
    "### Hosts Populate"
   ]
  },
  {
   "cell_type": "code",
   "execution_count": 11,
   "metadata": {},
   "outputs": [
    {
     "name": "stdout",
     "output_type": "stream",
     "text": [
      "Total Entries: 98\n"
     ]
    }
   ],
   "source": [
    "hosts = requests.get('https://api.kexp.org/v2/hosts')\n",
    "hosts_json=hosts.json()\n",
    "print(f\"Total Entries: {hosts_json['count']}\")\n"
   ]
  },
  {
   "cell_type": "code",
   "execution_count": 12,
   "metadata": {},
   "outputs": [
    {
     "name": "stdout",
     "output_type": "stream",
     "text": [
      "Data inserted successfully!\n"
     ]
    }
   ],
   "source": [
    "    \n",
    "# Create a session\n",
    "Session = sessionmaker(bind=engine)\n",
    "session = Session()\n",
    "    \n",
    "# Insert data into the table\n",
    "try:\n",
    "    for data in hosts_json['results']:\n",
    "        user = Hosts(**data)\n",
    "        session.add(user)\n",
    "\n",
    "    # Commit the transaction\n",
    "    session.commit()\n",
    "    print(\"Data inserted successfully!\")\n",
    "\n",
    "except Exception as e:\n",
    "    # Roll back the transaction if an error occurs\n",
    "    session.rollback()\n",
    "    print(f\"Error: {e}\")\n",
    "\n",
    "finally:\n",
    "    # Close the session\n",
    "    session.close()\n"
   ]
  },
  {
   "cell_type": "code",
   "execution_count": 16,
   "metadata": {},
   "outputs": [
    {
     "name": "stdout",
     "output_type": "stream",
     "text": [
      "7 https://api.kexp.org/v2/hosts/7/ Diane Horn https://www.kexp.org/filer/canonical/1529969977/10632/  False\n",
      "9 https://api.kexp.org/v2/hosts/9/ DJ El Toro https://kexpstorage.blob.core.windows.net/images/hosts/111335  False\n",
      "58 https://api.kexp.org/v2/hosts/58/ B-Mello   False\n",
      "8 https://api.kexp.org/v2/hosts/8/ DJ Alex https://www.kexp.org/filer/canonical/1529969764/10631/  True\n",
      "3 https://api.kexp.org/v2/hosts/3/ Brian Foss https://www.kexp.org/filer/canonical/1529969446/10628/  True\n"
     ]
    }
   ],
   "source": [
    "# Query the table for 5 random rows\n",
    "try:\n",
    "    random_rows = session.query(Hosts).order_by(func.rand()).limit(5).all()\n",
    "    for row in random_rows:\n",
    "        print(row.id, row.uri, row.name, row.image_uri, row.thumbnail_uri, row.is_active)\n",
    "\n",
    "except Exception as e:\n",
    "    print(f\"Error: {e}\")\n",
    "\n",
    "finally:\n",
    "    # Close the session\n",
    "    session.close()"
   ]
  },
  {
   "cell_type": "code",
   "execution_count": 17,
   "metadata": {},
   "outputs": [
    {
     "name": "stdout",
     "output_type": "stream",
     "text": [
      "Data inserted successfully!\n",
      "Data inserted successfully!\n",
      "Data inserted successfully!\n",
      "Data inserted successfully!\n"
     ]
    }
   ],
   "source": [
    "\n",
    "while hosts_json['next'] != None:\n",
    "    hosts = requests.get(hosts_json['next'])\n",
    "    hosts_json=hosts.json()\n",
    "    # Create a session\n",
    "    Session = sessionmaker(bind=engine)\n",
    "    session = Session()\n",
    "        \n",
    "    # Insert data into the table\n",
    "    try:\n",
    "        for data in hosts_json['results']:\n",
    "            user = Hosts(**data)\n",
    "            session.add(user)\n",
    "\n",
    "        # Commit the transaction\n",
    "        session.commit()\n",
    "        print(\"Data inserted successfully!\")\n",
    "\n",
    "    except Exception as e:\n",
    "        # Roll back the transaction if an error occurs\n",
    "        session.rollback()\n",
    "        print(f\"Error: {e}\")\n",
    "\n",
    "    finally:\n",
    "        # Close the session\n",
    "        session.close()"
   ]
  },
  {
   "cell_type": "markdown",
   "metadata": {},
   "source": [
    "### Programs Populate"
   ]
  },
  {
   "cell_type": "code",
   "execution_count": 19,
   "metadata": {},
   "outputs": [
    {
     "name": "stdout",
     "output_type": "stream",
     "text": [
      "Total Entries: 40\n"
     ]
    }
   ],
   "source": [
    "programs = requests.get(urls['programs'])\n",
    "programs_json=programs.json()\n",
    "print(f\"Total Entries: {programs_json['count']}\")"
   ]
  },
  {
   "cell_type": "code",
   "execution_count": 20,
   "metadata": {},
   "outputs": [
    {
     "data": {
      "text/plain": [
       "{'count': 40,\n",
       " 'next': 'https://api.kexp.org/v2/programs/?limit=20&offset=20',\n",
       " 'previous': None,\n",
       " 'results': [{'id': 26,\n",
       "   'uri': 'https://api.kexp.org/v2/programs/26/',\n",
       "   'name': '90.TEEN',\n",
       "   'description': 'Rock,Eclectic,Variety Mix',\n",
       "   'tags': 'Rock,Eclectic,Variety Mix',\n",
       "   'is_active': True},\n",
       "  {'id': 38,\n",
       "   'uri': 'https://api.kexp.org/v2/programs/38/',\n",
       "   'name': 'Astral Plane',\n",
       "   'description': '',\n",
       "   'tags': 'Rock,Eclectic,Psychedelic',\n",
       "   'is_active': True},\n",
       "  {'id': 1,\n",
       "   'uri': 'https://api.kexp.org/v2/programs/1/',\n",
       "   'name': 'Audioasis',\n",
       "   'description': \"Audioasis is KEXP's long-running Northwest music show hosted by Sharlese Metcalf. Past hosts have included Jonathen Poneman, Jason Hughes, Scott Vanderpool, Stevie Zoom, Sean Nelson and Hannah Levin. John Richards helps produce the show. Audioasis delivers three hours of local and live bands from all areas and genres of the Northwest. On Audioasis, you'll hear the new, the old, the demos, the vinyl, and the future of music. Every first Saturday of the month you can catch Audioasis out in the city LIVE! Tune in Saturday from 6-9 PM.\",\n",
       "   'tags': 'Rock,Eclectic,Pacific Northwest',\n",
       "   'is_active': True},\n",
       "  {'id': 27,\n",
       "   'uri': 'https://api.kexp.org/v2/programs/27/',\n",
       "   'name': 'Best Ambiance',\n",
       "   'description': 'Went off the air in 2011.',\n",
       "   'tags': 'African,World',\n",
       "   'is_active': False},\n",
       "  {'id': 33,\n",
       "   'uri': 'https://api.kexp.org/v2/programs/33/',\n",
       "   'name': 'Drive Time',\n",
       "   'description': '',\n",
       "   'tags': 'Rock,Eclectic,Variety Mix',\n",
       "   'is_active': True},\n",
       "  {'id': 32,\n",
       "   'uri': 'https://api.kexp.org/v2/programs/32/',\n",
       "   'name': 'Early',\n",
       "   'description': '',\n",
       "   'tags': 'Rock,Eclectic,Variety Mix',\n",
       "   'is_active': True},\n",
       "  {'id': 37,\n",
       "   'uri': 'https://api.kexp.org/v2/programs/37/',\n",
       "   'name': 'Eastern Echoes',\n",
       "   'description': '',\n",
       "   'tags': 'Eclectic,Variety,World',\n",
       "   'is_active': True},\n",
       "  {'id': 2,\n",
       "   'uri': 'https://api.kexp.org/v2/programs/2/',\n",
       "   'name': 'El Sonido',\n",
       "   'description': \"El Sonido is a three hour trip around the diverse world of Latin music and culture from South, Central and North America, as well as Spain and the rest of the globe. \\\\n\\\\nThe focus is on new music and the growing Latin alternative scene, but traditional styles, both old and new are also regularly spotlighted. There's tons of fresh contemporary flavors to enjoy from hip-hop, nu-cumbia, indie-rock, reggaeton and dance punk to indie-folk, tropical bass, reggae, funk and more. Plus there’s an endless number of traditional styles too, you’ll hear bachata, tango, salsa, flamenco, norteño and dozens of others. \\\\n\\\\nMusicians and DJs from around the world will regularly stop by for exclusive live performances and I’ll keep you up-to-date with Latin music news and events. \\\\n\\\\nTune in every Monday evening and we’ll travel together, making new discoveries and having a blast along the way.\",\n",
       "   'tags': 'Latin,World',\n",
       "   'is_active': True},\n",
       "  {'id': 3,\n",
       "   'uri': 'https://api.kexp.org/v2/programs/3/',\n",
       "   'name': 'Expansions',\n",
       "   'description': 'Expansions began in late 1995 as the brainchild of Riz Rollins as a response to the burgeoning acid jazz scene that was enjoying popularity in local clubs, but underexposed on the local airwaves. Even at its inception it has always been important that the show not be commanded by any monolithic style or single host, but has always enjoyed 3 hosts who bring a variety of influences and style to the final mix. An Expansions mix will include old and new releases in its mix in a variety of genres. An Expansions mix can included trip-hop, chill, ambient, drum and bass, house, dub, electronica, jazz, sometimes world music, sometimes rock, sometimes....well sometimes even the most disparate elements come together thanks to the expert curator efforts of its current hosts Kid Hops, Masa, and Riz. \\\\n\\\\n-DJ Riz',\n",
       "   'tags': 'Electronic',\n",
       "   'is_active': True},\n",
       "  {'id': 22,\n",
       "   'uri': 'https://api.kexp.org/v2/programs/22/',\n",
       "   'name': 'Friday Night',\n",
       "   'description': 'Electronic, Soul, R&B, Hip-Hop, Rock',\n",
       "   'tags': 'Rock,Eclectic,Variety Mix',\n",
       "   'is_active': True},\n",
       "  {'id': 4,\n",
       "   'uri': 'https://api.kexp.org/v2/programs/4/',\n",
       "   'name': 'Jazz Theatre',\n",
       "   'description': 'I have a personal mission statement in mind for Jazz Theater. That is, to really celebrate the fact that Jazz Is Alive and Thriving. Now! \\\\n\\\\nIn recent years, jazz has been cast in an unfortunate historical context -- as something that already happened, and is now over. Or, individual \"experts\" are too willing to narrowly define jazz - like; it sounds like this, and like that, and like this -- and if it doesn\\'t, it isn\\'t jazz. \\\\n\\\\nI think instead, that jazz, like any vibrant art form, has a mandate to expand and recreate itself -- to try new things, to get better, or at least to be different today than it was yesterday. Certainly jazz has a rich history. But part of that history is expansion and progression. Jazz never has stood still for long, there\\'s no reason to think is should now. \\\\n\\\\nIn programming Jazz Theater I look for compelling work by artists who have been willing to blaze new trails. Clearly they have all studied the history of jazz, and thankfully they are not willing to be confined by it. Some of Jazz Theater will be familiar and, hopefully, some of it will be like nothing you\\'ve ever heard before. \\\\n\\\\n-John Gilbreath',\n",
       "   'tags': 'Jazz',\n",
       "   'is_active': True},\n",
       "  {'id': 36,\n",
       "   'uri': 'https://api.kexp.org/v2/programs/36/',\n",
       "   'name': 'Live on KEXP',\n",
       "   'description': '',\n",
       "   'tags': 'Live,Eclectic,Variety Mix',\n",
       "   'is_active': True},\n",
       "  {'id': 34,\n",
       "   'uri': 'https://api.kexp.org/v2/programs/34/',\n",
       "   'name': 'Mechanical Breakdown',\n",
       "   'description': '',\n",
       "   'tags': 'Wave,Synth,Post Punk,EBM',\n",
       "   'is_active': True},\n",
       "  {'id': 5,\n",
       "   'uri': 'https://api.kexp.org/v2/programs/5/',\n",
       "   'name': 'Midnight in a Perfect World',\n",
       "   'description': 'Multi-genre program featuring eclectic sets by a rotating cast of international and local DJs, each building upon a party vibe to kick off your weekend.',\n",
       "   'tags': 'Eclectic,DJ,Variety Mix',\n",
       "   'is_active': True},\n",
       "  {'id': 6,\n",
       "   'uri': 'https://api.kexp.org/v2/programs/6/',\n",
       "   'name': 'Mind Over Matters',\n",
       "   'description': \"Mind Over Matters carries a wide range of provocative speakers and guests who bring our listeners viewpoints not often heard in the corporate media. MOM focuses on today's most important social, political and economic issues giving voice to the people directly impacted and involved. By giving a forum to those not normally heard in corporate media, MOM offers a unique perspective on the issues that impact our daily lives. \\\\n\\\\nMOM carries a stellar list of nationally produced shows including Alternative Radio, Counterspin, Radio Nation, Making Contact and TUC Radio. We also carry several locally produced shows including The Sustainability Segment, Community Forum and Deep Water. \\\\n\\\\nSome of the unique voices you'll hear on MOM include Howard Zinn, Vandana Shiva, Noam Chomsky, David Korten, Molly Ivins, Greg Palast, Winona LaDuke, Robert McChesney, Ralph Nader, Arundhati Roy, Michael Moore, Naomi Klein and John Judge.\",\n",
       "   'tags': 'Public Affairs',\n",
       "   'is_active': False},\n",
       "  {'id': 30,\n",
       "   'uri': 'https://api.kexp.org/v2/programs/30/',\n",
       "   'name': \"Mo'Glo\",\n",
       "   'description': 'Went off the air in 2011.',\n",
       "   'tags': 'World',\n",
       "   'is_active': False},\n",
       "  {'id': 35,\n",
       "   'uri': 'https://api.kexp.org/v2/programs/35/',\n",
       "   'name': 'Overnight Afrobeats',\n",
       "   'description': '',\n",
       "   'tags': 'Afrobeat',\n",
       "   'is_active': False},\n",
       "  {'id': 24,\n",
       "   'uri': 'https://api.kexp.org/v2/programs/24/',\n",
       "   'name': 'Pacific Notions',\n",
       "   'description': 'KEXP',\n",
       "   'tags': 'KEXP',\n",
       "   'is_active': True},\n",
       "  {'id': 7,\n",
       "   'uri': 'https://api.kexp.org/v2/programs/7/',\n",
       "   'name': 'Positive Vibrations',\n",
       "   'description': 'Placing equal legitimacy upon all styles of Jamaican musical expression, Positive Vibrations joins the dots between Ska, Rocksteady, Roots Reggae, Dub, and Dancehall. Kid Hops educates as he entertains - riding rhythms across artists, labels, and decades, he demystifies the connections between producers and studios. From the roughest riddims, to the sweetest harmonies and rudest of rudebwoy deejays, Positive Vibrations provides the perfect blend of Jamaican sounds.',\n",
       "   'tags': 'Reggae,World',\n",
       "   'is_active': True},\n",
       "  {'id': 8,\n",
       "   'uri': 'https://api.kexp.org/v2/programs/8/',\n",
       "   'name': \"Preachin' the Blues\",\n",
       "   'description': \"From out of the swamp and through the woods comes the Preachin' the Blues show. Every Sunday I explore the downhome, uptown and gospel sounds of rhythm and blues music, and the focus is always on the most soulful, gritty, heartfelt and creative artists and material. \\\\n\\\\nCountry blues gets a special spotlight in the early morning, but quite often we move into the church for some old time singing, powerful preaching and funky accompaniment. \\\\n\\\\nI am a fan of southern soul and I always include something from my collection of Stax and Hi stuff in the mix, but the deep blues are firmly represented in each show with heaping helpings of the three Kings of the blues guitar, the rich character of Chicago's legends, and always a certain amount of Louisiana's magickal mystique. \\\\n\\\\n-Johnny Horn\",\n",
       "   'tags': 'Blues,Country,Roots',\n",
       "   'is_active': False}]}"
      ]
     },
     "execution_count": 20,
     "metadata": {},
     "output_type": "execute_result"
    }
   ],
   "source": [
    "programs_json"
   ]
  },
  {
   "cell_type": "code",
   "execution_count": 22,
   "metadata": {},
   "outputs": [
    {
     "name": "stdout",
     "output_type": "stream",
     "text": [
      "Data inserted successfully!\n"
     ]
    }
   ],
   "source": [
    "# Create a session\n",
    "Session = sessionmaker(bind=engine)\n",
    "session = Session()\n",
    "    \n",
    "# Insert data into the table\n",
    "try:\n",
    "    for data in programs_json['results']:\n",
    "        program = Programs(**data)\n",
    "        session.add(program)\n",
    "\n",
    "    # Commit the transaction\n",
    "    session.commit()\n",
    "    print(\"Data inserted successfully!\")\n",
    "\n",
    "except Exception as e:\n",
    "    # Roll back the transaction if an error occurs\n",
    "    session.rollback()\n",
    "    print(f\"Error: {e}\")\n",
    "\n",
    "finally:\n",
    "    # Close the session\n",
    "    session.close()"
   ]
  },
  {
   "cell_type": "code",
   "execution_count": 24,
   "metadata": {},
   "outputs": [
    {
     "name": "stdout",
     "output_type": "stream",
     "text": [
      "37 https://api.kexp.org/v2/programs/37/ Eastern Echoes  Eclectic,Variety,World True\n",
      "7 https://api.kexp.org/v2/programs/7/ Positive Vibrations Placing equal legitimacy upon all styles of Jamaican musical expression, Positive Vibrations joins the dots between Ska, Rocksteady, Roots Reggae, Dub, and Dancehall. Kid Hops educates as he entertains - riding rhythms across artists, labels, and decades, he demystifies the connections between producers and studios. From the roughest riddims, to the sweetest harmonies and rudest of rudebwoy deejays, Positive Vibrations provides the perfect blend of Jamaican sounds. Reggae,World True\n",
      "22 https://api.kexp.org/v2/programs/22/ Friday Night Electronic, Soul, R&B, Hip-Hop, Rock Rock,Eclectic,Variety Mix True\n",
      "35 https://api.kexp.org/v2/programs/35/ Overnight Afrobeats  Afrobeat False\n",
      "34 https://api.kexp.org/v2/programs/34/ Mechanical Breakdown  Wave,Synth,Post Punk,EBM True\n"
     ]
    }
   ],
   "source": [
    "# Create a session\n",
    "Session = sessionmaker(bind=engine)\n",
    "session = Session()\n",
    "# Query the table for 5 random rows\n",
    "try:\n",
    "    random_rows = session.query(Programs).order_by(func.rand()).limit(5).all()\n",
    "    for row in random_rows:\n",
    "        print(row.id, row.uri, row.name, row.description, row.tags, row.is_active)\n",
    "\n",
    "except Exception as e:\n",
    "    print(f\"Error: {e}\")\n",
    "\n",
    "finally:\n",
    "    # Close the session\n",
    "    session.close()"
   ]
  },
  {
   "cell_type": "code",
   "execution_count": 26,
   "metadata": {},
   "outputs": [
    {
     "name": "stdout",
     "output_type": "stream",
     "text": [
      "Error: 'description' is an invalid keyword argument for Hosts\n",
      "Error: 'description' is an invalid keyword argument for Hosts\n",
      "Error: 'description' is an invalid keyword argument for Hosts\n",
      "Error: 'description' is an invalid keyword argument for Hosts\n",
      "Error: 'description' is an invalid keyword argument for Hosts\n",
      "Error: 'description' is an invalid keyword argument for Hosts\n",
      "Error: 'description' is an invalid keyword argument for Hosts\n",
      "Error: 'description' is an invalid keyword argument for Hosts\n",
      "Error: 'description' is an invalid keyword argument for Hosts\n",
      "Error: 'description' is an invalid keyword argument for Hosts\n",
      "Error: 'description' is an invalid keyword argument for Hosts\n",
      "Error: 'description' is an invalid keyword argument for Hosts\n",
      "Error: 'description' is an invalid keyword argument for Hosts\n",
      "Error: 'description' is an invalid keyword argument for Hosts\n",
      "Error: 'description' is an invalid keyword argument for Hosts\n",
      "Error: 'description' is an invalid keyword argument for Hosts\n",
      "Error: 'description' is an invalid keyword argument for Hosts\n",
      "Error: 'description' is an invalid keyword argument for Hosts\n",
      "Error: 'description' is an invalid keyword argument for Hosts\n",
      "Error: 'description' is an invalid keyword argument for Hosts\n",
      "Error: 'description' is an invalid keyword argument for Hosts\n",
      "Error: 'description' is an invalid keyword argument for Hosts\n",
      "Error: 'description' is an invalid keyword argument for Hosts\n",
      "Error: 'description' is an invalid keyword argument for Hosts\n",
      "Error: 'description' is an invalid keyword argument for Hosts\n",
      "Error: 'description' is an invalid keyword argument for Hosts\n",
      "Error: 'description' is an invalid keyword argument for Hosts\n",
      "Error: 'description' is an invalid keyword argument for Hosts\n",
      "Error: 'description' is an invalid keyword argument for Hosts\n",
      "Error: 'description' is an invalid keyword argument for Hosts\n",
      "Error: 'description' is an invalid keyword argument for Hosts\n",
      "Error: 'description' is an invalid keyword argument for Hosts\n",
      "Error: 'description' is an invalid keyword argument for Hosts\n",
      "Error: 'description' is an invalid keyword argument for Hosts\n"
     ]
    },
    {
     "ename": "KeyboardInterrupt",
     "evalue": "",
     "output_type": "error",
     "traceback": [
      "\u001b[1;31m---------------------------------------------------------------------------\u001b[0m",
      "\u001b[1;31mKeyboardInterrupt\u001b[0m                         Traceback (most recent call last)",
      "Cell \u001b[1;32mIn[26], line 2\u001b[0m\n\u001b[0;32m      1\u001b[0m \u001b[38;5;28;01mwhile\u001b[39;00m programs_json[\u001b[38;5;124m'\u001b[39m\u001b[38;5;124mnext\u001b[39m\u001b[38;5;124m'\u001b[39m] \u001b[38;5;241m!=\u001b[39m \u001b[38;5;28;01mNone\u001b[39;00m:\n\u001b[1;32m----> 2\u001b[0m     programs \u001b[38;5;241m=\u001b[39m \u001b[43mrequests\u001b[49m\u001b[38;5;241;43m.\u001b[39;49m\u001b[43mget\u001b[49m\u001b[43m(\u001b[49m\u001b[43mprograms_json\u001b[49m\u001b[43m[\u001b[49m\u001b[38;5;124;43m'\u001b[39;49m\u001b[38;5;124;43mnext\u001b[39;49m\u001b[38;5;124;43m'\u001b[39;49m\u001b[43m]\u001b[49m\u001b[43m)\u001b[49m\n\u001b[0;32m      3\u001b[0m     hosts_json\u001b[38;5;241m=\u001b[39mprograms\u001b[38;5;241m.\u001b[39mjson()\n\u001b[0;32m      4\u001b[0m     \u001b[38;5;66;03m# Create a session\u001b[39;00m\n",
      "File \u001b[1;32mc:\\Users\\micha\\Documents\\programming projects\\kexp on gcp\\kexp_venv\\Lib\\site-packages\\requests\\api.py:73\u001b[0m, in \u001b[0;36mget\u001b[1;34m(url, params, **kwargs)\u001b[0m\n\u001b[0;32m     62\u001b[0m \u001b[38;5;28;01mdef\u001b[39;00m \u001b[38;5;21mget\u001b[39m(url, params\u001b[38;5;241m=\u001b[39m\u001b[38;5;28;01mNone\u001b[39;00m, \u001b[38;5;241m*\u001b[39m\u001b[38;5;241m*\u001b[39mkwargs):\n\u001b[0;32m     63\u001b[0m \u001b[38;5;250m    \u001b[39m\u001b[38;5;124mr\u001b[39m\u001b[38;5;124;03m\"\"\"Sends a GET request.\u001b[39;00m\n\u001b[0;32m     64\u001b[0m \n\u001b[0;32m     65\u001b[0m \u001b[38;5;124;03m    :param url: URL for the new :class:`Request` object.\u001b[39;00m\n\u001b[1;32m   (...)\u001b[0m\n\u001b[0;32m     70\u001b[0m \u001b[38;5;124;03m    :rtype: requests.Response\u001b[39;00m\n\u001b[0;32m     71\u001b[0m \u001b[38;5;124;03m    \"\"\"\u001b[39;00m\n\u001b[1;32m---> 73\u001b[0m     \u001b[38;5;28;01mreturn\u001b[39;00m \u001b[43mrequest\u001b[49m\u001b[43m(\u001b[49m\u001b[38;5;124;43m\"\u001b[39;49m\u001b[38;5;124;43mget\u001b[39;49m\u001b[38;5;124;43m\"\u001b[39;49m\u001b[43m,\u001b[49m\u001b[43m \u001b[49m\u001b[43murl\u001b[49m\u001b[43m,\u001b[49m\u001b[43m \u001b[49m\u001b[43mparams\u001b[49m\u001b[38;5;241;43m=\u001b[39;49m\u001b[43mparams\u001b[49m\u001b[43m,\u001b[49m\u001b[43m \u001b[49m\u001b[38;5;241;43m*\u001b[39;49m\u001b[38;5;241;43m*\u001b[39;49m\u001b[43mkwargs\u001b[49m\u001b[43m)\u001b[49m\n",
      "File \u001b[1;32mc:\\Users\\micha\\Documents\\programming projects\\kexp on gcp\\kexp_venv\\Lib\\site-packages\\requests\\api.py:59\u001b[0m, in \u001b[0;36mrequest\u001b[1;34m(method, url, **kwargs)\u001b[0m\n\u001b[0;32m     55\u001b[0m \u001b[38;5;66;03m# By using the 'with' statement we are sure the session is closed, thus we\u001b[39;00m\n\u001b[0;32m     56\u001b[0m \u001b[38;5;66;03m# avoid leaving sockets open which can trigger a ResourceWarning in some\u001b[39;00m\n\u001b[0;32m     57\u001b[0m \u001b[38;5;66;03m# cases, and look like a memory leak in others.\u001b[39;00m\n\u001b[0;32m     58\u001b[0m \u001b[38;5;28;01mwith\u001b[39;00m sessions\u001b[38;5;241m.\u001b[39mSession() \u001b[38;5;28;01mas\u001b[39;00m session:\n\u001b[1;32m---> 59\u001b[0m     \u001b[38;5;28;01mreturn\u001b[39;00m \u001b[43msession\u001b[49m\u001b[38;5;241;43m.\u001b[39;49m\u001b[43mrequest\u001b[49m\u001b[43m(\u001b[49m\u001b[43mmethod\u001b[49m\u001b[38;5;241;43m=\u001b[39;49m\u001b[43mmethod\u001b[49m\u001b[43m,\u001b[49m\u001b[43m \u001b[49m\u001b[43murl\u001b[49m\u001b[38;5;241;43m=\u001b[39;49m\u001b[43murl\u001b[49m\u001b[43m,\u001b[49m\u001b[43m \u001b[49m\u001b[38;5;241;43m*\u001b[39;49m\u001b[38;5;241;43m*\u001b[39;49m\u001b[43mkwargs\u001b[49m\u001b[43m)\u001b[49m\n",
      "File \u001b[1;32mc:\\Users\\micha\\Documents\\programming projects\\kexp on gcp\\kexp_venv\\Lib\\site-packages\\requests\\sessions.py:589\u001b[0m, in \u001b[0;36mSession.request\u001b[1;34m(self, method, url, params, data, headers, cookies, files, auth, timeout, allow_redirects, proxies, hooks, stream, verify, cert, json)\u001b[0m\n\u001b[0;32m    584\u001b[0m send_kwargs \u001b[38;5;241m=\u001b[39m {\n\u001b[0;32m    585\u001b[0m     \u001b[38;5;124m\"\u001b[39m\u001b[38;5;124mtimeout\u001b[39m\u001b[38;5;124m\"\u001b[39m: timeout,\n\u001b[0;32m    586\u001b[0m     \u001b[38;5;124m\"\u001b[39m\u001b[38;5;124mallow_redirects\u001b[39m\u001b[38;5;124m\"\u001b[39m: allow_redirects,\n\u001b[0;32m    587\u001b[0m }\n\u001b[0;32m    588\u001b[0m send_kwargs\u001b[38;5;241m.\u001b[39mupdate(settings)\n\u001b[1;32m--> 589\u001b[0m resp \u001b[38;5;241m=\u001b[39m \u001b[38;5;28;43mself\u001b[39;49m\u001b[38;5;241;43m.\u001b[39;49m\u001b[43msend\u001b[49m\u001b[43m(\u001b[49m\u001b[43mprep\u001b[49m\u001b[43m,\u001b[49m\u001b[43m \u001b[49m\u001b[38;5;241;43m*\u001b[39;49m\u001b[38;5;241;43m*\u001b[39;49m\u001b[43msend_kwargs\u001b[49m\u001b[43m)\u001b[49m\n\u001b[0;32m    591\u001b[0m \u001b[38;5;28;01mreturn\u001b[39;00m resp\n",
      "File \u001b[1;32mc:\\Users\\micha\\Documents\\programming projects\\kexp on gcp\\kexp_venv\\Lib\\site-packages\\requests\\sessions.py:703\u001b[0m, in \u001b[0;36mSession.send\u001b[1;34m(self, request, **kwargs)\u001b[0m\n\u001b[0;32m    700\u001b[0m start \u001b[38;5;241m=\u001b[39m preferred_clock()\n\u001b[0;32m    702\u001b[0m \u001b[38;5;66;03m# Send the request\u001b[39;00m\n\u001b[1;32m--> 703\u001b[0m r \u001b[38;5;241m=\u001b[39m \u001b[43madapter\u001b[49m\u001b[38;5;241;43m.\u001b[39;49m\u001b[43msend\u001b[49m\u001b[43m(\u001b[49m\u001b[43mrequest\u001b[49m\u001b[43m,\u001b[49m\u001b[43m \u001b[49m\u001b[38;5;241;43m*\u001b[39;49m\u001b[38;5;241;43m*\u001b[39;49m\u001b[43mkwargs\u001b[49m\u001b[43m)\u001b[49m\n\u001b[0;32m    705\u001b[0m \u001b[38;5;66;03m# Total elapsed time of the request (approximately)\u001b[39;00m\n\u001b[0;32m    706\u001b[0m elapsed \u001b[38;5;241m=\u001b[39m preferred_clock() \u001b[38;5;241m-\u001b[39m start\n",
      "File \u001b[1;32mc:\\Users\\micha\\Documents\\programming projects\\kexp on gcp\\kexp_venv\\Lib\\site-packages\\requests\\adapters.py:486\u001b[0m, in \u001b[0;36mHTTPAdapter.send\u001b[1;34m(self, request, stream, timeout, verify, cert, proxies)\u001b[0m\n\u001b[0;32m    483\u001b[0m     timeout \u001b[38;5;241m=\u001b[39m TimeoutSauce(connect\u001b[38;5;241m=\u001b[39mtimeout, read\u001b[38;5;241m=\u001b[39mtimeout)\n\u001b[0;32m    485\u001b[0m \u001b[38;5;28;01mtry\u001b[39;00m:\n\u001b[1;32m--> 486\u001b[0m     resp \u001b[38;5;241m=\u001b[39m \u001b[43mconn\u001b[49m\u001b[38;5;241;43m.\u001b[39;49m\u001b[43murlopen\u001b[49m\u001b[43m(\u001b[49m\n\u001b[0;32m    487\u001b[0m \u001b[43m        \u001b[49m\u001b[43mmethod\u001b[49m\u001b[38;5;241;43m=\u001b[39;49m\u001b[43mrequest\u001b[49m\u001b[38;5;241;43m.\u001b[39;49m\u001b[43mmethod\u001b[49m\u001b[43m,\u001b[49m\n\u001b[0;32m    488\u001b[0m \u001b[43m        \u001b[49m\u001b[43murl\u001b[49m\u001b[38;5;241;43m=\u001b[39;49m\u001b[43murl\u001b[49m\u001b[43m,\u001b[49m\n\u001b[0;32m    489\u001b[0m \u001b[43m        \u001b[49m\u001b[43mbody\u001b[49m\u001b[38;5;241;43m=\u001b[39;49m\u001b[43mrequest\u001b[49m\u001b[38;5;241;43m.\u001b[39;49m\u001b[43mbody\u001b[49m\u001b[43m,\u001b[49m\n\u001b[0;32m    490\u001b[0m \u001b[43m        \u001b[49m\u001b[43mheaders\u001b[49m\u001b[38;5;241;43m=\u001b[39;49m\u001b[43mrequest\u001b[49m\u001b[38;5;241;43m.\u001b[39;49m\u001b[43mheaders\u001b[49m\u001b[43m,\u001b[49m\n\u001b[0;32m    491\u001b[0m \u001b[43m        \u001b[49m\u001b[43mredirect\u001b[49m\u001b[38;5;241;43m=\u001b[39;49m\u001b[38;5;28;43;01mFalse\u001b[39;49;00m\u001b[43m,\u001b[49m\n\u001b[0;32m    492\u001b[0m \u001b[43m        \u001b[49m\u001b[43massert_same_host\u001b[49m\u001b[38;5;241;43m=\u001b[39;49m\u001b[38;5;28;43;01mFalse\u001b[39;49;00m\u001b[43m,\u001b[49m\n\u001b[0;32m    493\u001b[0m \u001b[43m        \u001b[49m\u001b[43mpreload_content\u001b[49m\u001b[38;5;241;43m=\u001b[39;49m\u001b[38;5;28;43;01mFalse\u001b[39;49;00m\u001b[43m,\u001b[49m\n\u001b[0;32m    494\u001b[0m \u001b[43m        \u001b[49m\u001b[43mdecode_content\u001b[49m\u001b[38;5;241;43m=\u001b[39;49m\u001b[38;5;28;43;01mFalse\u001b[39;49;00m\u001b[43m,\u001b[49m\n\u001b[0;32m    495\u001b[0m \u001b[43m        \u001b[49m\u001b[43mretries\u001b[49m\u001b[38;5;241;43m=\u001b[39;49m\u001b[38;5;28;43mself\u001b[39;49m\u001b[38;5;241;43m.\u001b[39;49m\u001b[43mmax_retries\u001b[49m\u001b[43m,\u001b[49m\n\u001b[0;32m    496\u001b[0m \u001b[43m        \u001b[49m\u001b[43mtimeout\u001b[49m\u001b[38;5;241;43m=\u001b[39;49m\u001b[43mtimeout\u001b[49m\u001b[43m,\u001b[49m\n\u001b[0;32m    497\u001b[0m \u001b[43m        \u001b[49m\u001b[43mchunked\u001b[49m\u001b[38;5;241;43m=\u001b[39;49m\u001b[43mchunked\u001b[49m\u001b[43m,\u001b[49m\n\u001b[0;32m    498\u001b[0m \u001b[43m    \u001b[49m\u001b[43m)\u001b[49m\n\u001b[0;32m    500\u001b[0m \u001b[38;5;28;01mexcept\u001b[39;00m (ProtocolError, \u001b[38;5;167;01mOSError\u001b[39;00m) \u001b[38;5;28;01mas\u001b[39;00m err:\n\u001b[0;32m    501\u001b[0m     \u001b[38;5;28;01mraise\u001b[39;00m \u001b[38;5;167;01mConnectionError\u001b[39;00m(err, request\u001b[38;5;241m=\u001b[39mrequest)\n",
      "File \u001b[1;32mc:\\Users\\micha\\Documents\\programming projects\\kexp on gcp\\kexp_venv\\Lib\\site-packages\\urllib3\\connectionpool.py:793\u001b[0m, in \u001b[0;36mHTTPConnectionPool.urlopen\u001b[1;34m(self, method, url, body, headers, retries, redirect, assert_same_host, timeout, pool_timeout, release_conn, chunked, body_pos, preload_content, decode_content, **response_kw)\u001b[0m\n\u001b[0;32m    790\u001b[0m response_conn \u001b[38;5;241m=\u001b[39m conn \u001b[38;5;28;01mif\u001b[39;00m \u001b[38;5;129;01mnot\u001b[39;00m release_conn \u001b[38;5;28;01melse\u001b[39;00m \u001b[38;5;28;01mNone\u001b[39;00m\n\u001b[0;32m    792\u001b[0m \u001b[38;5;66;03m# Make the request on the HTTPConnection object\u001b[39;00m\n\u001b[1;32m--> 793\u001b[0m response \u001b[38;5;241m=\u001b[39m \u001b[38;5;28;43mself\u001b[39;49m\u001b[38;5;241;43m.\u001b[39;49m\u001b[43m_make_request\u001b[49m\u001b[43m(\u001b[49m\n\u001b[0;32m    794\u001b[0m \u001b[43m    \u001b[49m\u001b[43mconn\u001b[49m\u001b[43m,\u001b[49m\n\u001b[0;32m    795\u001b[0m \u001b[43m    \u001b[49m\u001b[43mmethod\u001b[49m\u001b[43m,\u001b[49m\n\u001b[0;32m    796\u001b[0m \u001b[43m    \u001b[49m\u001b[43murl\u001b[49m\u001b[43m,\u001b[49m\n\u001b[0;32m    797\u001b[0m \u001b[43m    \u001b[49m\u001b[43mtimeout\u001b[49m\u001b[38;5;241;43m=\u001b[39;49m\u001b[43mtimeout_obj\u001b[49m\u001b[43m,\u001b[49m\n\u001b[0;32m    798\u001b[0m \u001b[43m    \u001b[49m\u001b[43mbody\u001b[49m\u001b[38;5;241;43m=\u001b[39;49m\u001b[43mbody\u001b[49m\u001b[43m,\u001b[49m\n\u001b[0;32m    799\u001b[0m \u001b[43m    \u001b[49m\u001b[43mheaders\u001b[49m\u001b[38;5;241;43m=\u001b[39;49m\u001b[43mheaders\u001b[49m\u001b[43m,\u001b[49m\n\u001b[0;32m    800\u001b[0m \u001b[43m    \u001b[49m\u001b[43mchunked\u001b[49m\u001b[38;5;241;43m=\u001b[39;49m\u001b[43mchunked\u001b[49m\u001b[43m,\u001b[49m\n\u001b[0;32m    801\u001b[0m \u001b[43m    \u001b[49m\u001b[43mretries\u001b[49m\u001b[38;5;241;43m=\u001b[39;49m\u001b[43mretries\u001b[49m\u001b[43m,\u001b[49m\n\u001b[0;32m    802\u001b[0m \u001b[43m    \u001b[49m\u001b[43mresponse_conn\u001b[49m\u001b[38;5;241;43m=\u001b[39;49m\u001b[43mresponse_conn\u001b[49m\u001b[43m,\u001b[49m\n\u001b[0;32m    803\u001b[0m \u001b[43m    \u001b[49m\u001b[43mpreload_content\u001b[49m\u001b[38;5;241;43m=\u001b[39;49m\u001b[43mpreload_content\u001b[49m\u001b[43m,\u001b[49m\n\u001b[0;32m    804\u001b[0m \u001b[43m    \u001b[49m\u001b[43mdecode_content\u001b[49m\u001b[38;5;241;43m=\u001b[39;49m\u001b[43mdecode_content\u001b[49m\u001b[43m,\u001b[49m\n\u001b[0;32m    805\u001b[0m \u001b[43m    \u001b[49m\u001b[38;5;241;43m*\u001b[39;49m\u001b[38;5;241;43m*\u001b[39;49m\u001b[43mresponse_kw\u001b[49m\u001b[43m,\u001b[49m\n\u001b[0;32m    806\u001b[0m \u001b[43m\u001b[49m\u001b[43m)\u001b[49m\n\u001b[0;32m    808\u001b[0m \u001b[38;5;66;03m# Everything went great!\u001b[39;00m\n\u001b[0;32m    809\u001b[0m clean_exit \u001b[38;5;241m=\u001b[39m \u001b[38;5;28;01mTrue\u001b[39;00m\n",
      "File \u001b[1;32mc:\\Users\\micha\\Documents\\programming projects\\kexp on gcp\\kexp_venv\\Lib\\site-packages\\urllib3\\connectionpool.py:467\u001b[0m, in \u001b[0;36mHTTPConnectionPool._make_request\u001b[1;34m(self, conn, method, url, body, headers, retries, timeout, chunked, response_conn, preload_content, decode_content, enforce_content_length)\u001b[0m\n\u001b[0;32m    464\u001b[0m \u001b[38;5;28;01mtry\u001b[39;00m:\n\u001b[0;32m    465\u001b[0m     \u001b[38;5;66;03m# Trigger any extra validation we need to do.\u001b[39;00m\n\u001b[0;32m    466\u001b[0m     \u001b[38;5;28;01mtry\u001b[39;00m:\n\u001b[1;32m--> 467\u001b[0m         \u001b[38;5;28;43mself\u001b[39;49m\u001b[38;5;241;43m.\u001b[39;49m\u001b[43m_validate_conn\u001b[49m\u001b[43m(\u001b[49m\u001b[43mconn\u001b[49m\u001b[43m)\u001b[49m\n\u001b[0;32m    468\u001b[0m     \u001b[38;5;28;01mexcept\u001b[39;00m (SocketTimeout, BaseSSLError) \u001b[38;5;28;01mas\u001b[39;00m e:\n\u001b[0;32m    469\u001b[0m         \u001b[38;5;28mself\u001b[39m\u001b[38;5;241m.\u001b[39m_raise_timeout(err\u001b[38;5;241m=\u001b[39me, url\u001b[38;5;241m=\u001b[39murl, timeout_value\u001b[38;5;241m=\u001b[39mconn\u001b[38;5;241m.\u001b[39mtimeout)\n",
      "File \u001b[1;32mc:\\Users\\micha\\Documents\\programming projects\\kexp on gcp\\kexp_venv\\Lib\\site-packages\\urllib3\\connectionpool.py:1099\u001b[0m, in \u001b[0;36mHTTPSConnectionPool._validate_conn\u001b[1;34m(self, conn)\u001b[0m\n\u001b[0;32m   1097\u001b[0m \u001b[38;5;66;03m# Force connect early to allow us to validate the connection.\u001b[39;00m\n\u001b[0;32m   1098\u001b[0m \u001b[38;5;28;01mif\u001b[39;00m conn\u001b[38;5;241m.\u001b[39mis_closed:\n\u001b[1;32m-> 1099\u001b[0m     \u001b[43mconn\u001b[49m\u001b[38;5;241;43m.\u001b[39;49m\u001b[43mconnect\u001b[49m\u001b[43m(\u001b[49m\u001b[43m)\u001b[49m\n\u001b[0;32m   1101\u001b[0m \u001b[38;5;66;03m# TODO revise this, see https://github.com/urllib3/urllib3/issues/2791\u001b[39;00m\n\u001b[0;32m   1102\u001b[0m \u001b[38;5;28;01mif\u001b[39;00m \u001b[38;5;129;01mnot\u001b[39;00m conn\u001b[38;5;241m.\u001b[39mis_verified \u001b[38;5;129;01mand\u001b[39;00m \u001b[38;5;129;01mnot\u001b[39;00m conn\u001b[38;5;241m.\u001b[39mproxy_is_verified:\n",
      "File \u001b[1;32mc:\\Users\\micha\\Documents\\programming projects\\kexp on gcp\\kexp_venv\\Lib\\site-packages\\urllib3\\connection.py:653\u001b[0m, in \u001b[0;36mHTTPSConnection.connect\u001b[1;34m(self)\u001b[0m\n\u001b[0;32m    650\u001b[0m \u001b[38;5;66;03m# Remove trailing '.' from fqdn hostnames to allow certificate validation\u001b[39;00m\n\u001b[0;32m    651\u001b[0m server_hostname_rm_dot \u001b[38;5;241m=\u001b[39m server_hostname\u001b[38;5;241m.\u001b[39mrstrip(\u001b[38;5;124m\"\u001b[39m\u001b[38;5;124m.\u001b[39m\u001b[38;5;124m\"\u001b[39m)\n\u001b[1;32m--> 653\u001b[0m sock_and_verified \u001b[38;5;241m=\u001b[39m \u001b[43m_ssl_wrap_socket_and_match_hostname\u001b[49m\u001b[43m(\u001b[49m\n\u001b[0;32m    654\u001b[0m \u001b[43m    \u001b[49m\u001b[43msock\u001b[49m\u001b[38;5;241;43m=\u001b[39;49m\u001b[43msock\u001b[49m\u001b[43m,\u001b[49m\n\u001b[0;32m    655\u001b[0m \u001b[43m    \u001b[49m\u001b[43mcert_reqs\u001b[49m\u001b[38;5;241;43m=\u001b[39;49m\u001b[38;5;28;43mself\u001b[39;49m\u001b[38;5;241;43m.\u001b[39;49m\u001b[43mcert_reqs\u001b[49m\u001b[43m,\u001b[49m\n\u001b[0;32m    656\u001b[0m \u001b[43m    \u001b[49m\u001b[43mssl_version\u001b[49m\u001b[38;5;241;43m=\u001b[39;49m\u001b[38;5;28;43mself\u001b[39;49m\u001b[38;5;241;43m.\u001b[39;49m\u001b[43mssl_version\u001b[49m\u001b[43m,\u001b[49m\n\u001b[0;32m    657\u001b[0m \u001b[43m    \u001b[49m\u001b[43mssl_minimum_version\u001b[49m\u001b[38;5;241;43m=\u001b[39;49m\u001b[38;5;28;43mself\u001b[39;49m\u001b[38;5;241;43m.\u001b[39;49m\u001b[43mssl_minimum_version\u001b[49m\u001b[43m,\u001b[49m\n\u001b[0;32m    658\u001b[0m \u001b[43m    \u001b[49m\u001b[43mssl_maximum_version\u001b[49m\u001b[38;5;241;43m=\u001b[39;49m\u001b[38;5;28;43mself\u001b[39;49m\u001b[38;5;241;43m.\u001b[39;49m\u001b[43mssl_maximum_version\u001b[49m\u001b[43m,\u001b[49m\n\u001b[0;32m    659\u001b[0m \u001b[43m    \u001b[49m\u001b[43mca_certs\u001b[49m\u001b[38;5;241;43m=\u001b[39;49m\u001b[38;5;28;43mself\u001b[39;49m\u001b[38;5;241;43m.\u001b[39;49m\u001b[43mca_certs\u001b[49m\u001b[43m,\u001b[49m\n\u001b[0;32m    660\u001b[0m \u001b[43m    \u001b[49m\u001b[43mca_cert_dir\u001b[49m\u001b[38;5;241;43m=\u001b[39;49m\u001b[38;5;28;43mself\u001b[39;49m\u001b[38;5;241;43m.\u001b[39;49m\u001b[43mca_cert_dir\u001b[49m\u001b[43m,\u001b[49m\n\u001b[0;32m    661\u001b[0m \u001b[43m    \u001b[49m\u001b[43mca_cert_data\u001b[49m\u001b[38;5;241;43m=\u001b[39;49m\u001b[38;5;28;43mself\u001b[39;49m\u001b[38;5;241;43m.\u001b[39;49m\u001b[43mca_cert_data\u001b[49m\u001b[43m,\u001b[49m\n\u001b[0;32m    662\u001b[0m \u001b[43m    \u001b[49m\u001b[43mcert_file\u001b[49m\u001b[38;5;241;43m=\u001b[39;49m\u001b[38;5;28;43mself\u001b[39;49m\u001b[38;5;241;43m.\u001b[39;49m\u001b[43mcert_file\u001b[49m\u001b[43m,\u001b[49m\n\u001b[0;32m    663\u001b[0m \u001b[43m    \u001b[49m\u001b[43mkey_file\u001b[49m\u001b[38;5;241;43m=\u001b[39;49m\u001b[38;5;28;43mself\u001b[39;49m\u001b[38;5;241;43m.\u001b[39;49m\u001b[43mkey_file\u001b[49m\u001b[43m,\u001b[49m\n\u001b[0;32m    664\u001b[0m \u001b[43m    \u001b[49m\u001b[43mkey_password\u001b[49m\u001b[38;5;241;43m=\u001b[39;49m\u001b[38;5;28;43mself\u001b[39;49m\u001b[38;5;241;43m.\u001b[39;49m\u001b[43mkey_password\u001b[49m\u001b[43m,\u001b[49m\n\u001b[0;32m    665\u001b[0m \u001b[43m    \u001b[49m\u001b[43mserver_hostname\u001b[49m\u001b[38;5;241;43m=\u001b[39;49m\u001b[43mserver_hostname_rm_dot\u001b[49m\u001b[43m,\u001b[49m\n\u001b[0;32m    666\u001b[0m \u001b[43m    \u001b[49m\u001b[43mssl_context\u001b[49m\u001b[38;5;241;43m=\u001b[39;49m\u001b[38;5;28;43mself\u001b[39;49m\u001b[38;5;241;43m.\u001b[39;49m\u001b[43mssl_context\u001b[49m\u001b[43m,\u001b[49m\n\u001b[0;32m    667\u001b[0m \u001b[43m    \u001b[49m\u001b[43mtls_in_tls\u001b[49m\u001b[38;5;241;43m=\u001b[39;49m\u001b[43mtls_in_tls\u001b[49m\u001b[43m,\u001b[49m\n\u001b[0;32m    668\u001b[0m \u001b[43m    \u001b[49m\u001b[43massert_hostname\u001b[49m\u001b[38;5;241;43m=\u001b[39;49m\u001b[38;5;28;43mself\u001b[39;49m\u001b[38;5;241;43m.\u001b[39;49m\u001b[43massert_hostname\u001b[49m\u001b[43m,\u001b[49m\n\u001b[0;32m    669\u001b[0m \u001b[43m    \u001b[49m\u001b[43massert_fingerprint\u001b[49m\u001b[38;5;241;43m=\u001b[39;49m\u001b[38;5;28;43mself\u001b[39;49m\u001b[38;5;241;43m.\u001b[39;49m\u001b[43massert_fingerprint\u001b[49m\u001b[43m,\u001b[49m\n\u001b[0;32m    670\u001b[0m \u001b[43m\u001b[49m\u001b[43m)\u001b[49m\n\u001b[0;32m    671\u001b[0m \u001b[38;5;28mself\u001b[39m\u001b[38;5;241m.\u001b[39msock \u001b[38;5;241m=\u001b[39m sock_and_verified\u001b[38;5;241m.\u001b[39msocket\n\u001b[0;32m    673\u001b[0m \u001b[38;5;66;03m# Forwarding proxies can never have a verified target since\u001b[39;00m\n\u001b[0;32m    674\u001b[0m \u001b[38;5;66;03m# the proxy is the one doing the verification. Should instead\u001b[39;00m\n\u001b[0;32m    675\u001b[0m \u001b[38;5;66;03m# use a CONNECT tunnel in order to verify the target.\u001b[39;00m\n\u001b[0;32m    676\u001b[0m \u001b[38;5;66;03m# See: https://github.com/urllib3/urllib3/issues/3267.\u001b[39;00m\n",
      "File \u001b[1;32mc:\\Users\\micha\\Documents\\programming projects\\kexp on gcp\\kexp_venv\\Lib\\site-packages\\urllib3\\connection.py:806\u001b[0m, in \u001b[0;36m_ssl_wrap_socket_and_match_hostname\u001b[1;34m(sock, cert_reqs, ssl_version, ssl_minimum_version, ssl_maximum_version, cert_file, key_file, key_password, ca_certs, ca_cert_dir, ca_cert_data, assert_hostname, assert_fingerprint, server_hostname, ssl_context, tls_in_tls)\u001b[0m\n\u001b[0;32m    803\u001b[0m     \u001b[38;5;28;01mif\u001b[39;00m is_ipaddress(normalized):\n\u001b[0;32m    804\u001b[0m         server_hostname \u001b[38;5;241m=\u001b[39m normalized\n\u001b[1;32m--> 806\u001b[0m ssl_sock \u001b[38;5;241m=\u001b[39m \u001b[43mssl_wrap_socket\u001b[49m\u001b[43m(\u001b[49m\n\u001b[0;32m    807\u001b[0m \u001b[43m    \u001b[49m\u001b[43msock\u001b[49m\u001b[38;5;241;43m=\u001b[39;49m\u001b[43msock\u001b[49m\u001b[43m,\u001b[49m\n\u001b[0;32m    808\u001b[0m \u001b[43m    \u001b[49m\u001b[43mkeyfile\u001b[49m\u001b[38;5;241;43m=\u001b[39;49m\u001b[43mkey_file\u001b[49m\u001b[43m,\u001b[49m\n\u001b[0;32m    809\u001b[0m \u001b[43m    \u001b[49m\u001b[43mcertfile\u001b[49m\u001b[38;5;241;43m=\u001b[39;49m\u001b[43mcert_file\u001b[49m\u001b[43m,\u001b[49m\n\u001b[0;32m    810\u001b[0m \u001b[43m    \u001b[49m\u001b[43mkey_password\u001b[49m\u001b[38;5;241;43m=\u001b[39;49m\u001b[43mkey_password\u001b[49m\u001b[43m,\u001b[49m\n\u001b[0;32m    811\u001b[0m \u001b[43m    \u001b[49m\u001b[43mca_certs\u001b[49m\u001b[38;5;241;43m=\u001b[39;49m\u001b[43mca_certs\u001b[49m\u001b[43m,\u001b[49m\n\u001b[0;32m    812\u001b[0m \u001b[43m    \u001b[49m\u001b[43mca_cert_dir\u001b[49m\u001b[38;5;241;43m=\u001b[39;49m\u001b[43mca_cert_dir\u001b[49m\u001b[43m,\u001b[49m\n\u001b[0;32m    813\u001b[0m \u001b[43m    \u001b[49m\u001b[43mca_cert_data\u001b[49m\u001b[38;5;241;43m=\u001b[39;49m\u001b[43mca_cert_data\u001b[49m\u001b[43m,\u001b[49m\n\u001b[0;32m    814\u001b[0m \u001b[43m    \u001b[49m\u001b[43mserver_hostname\u001b[49m\u001b[38;5;241;43m=\u001b[39;49m\u001b[43mserver_hostname\u001b[49m\u001b[43m,\u001b[49m\n\u001b[0;32m    815\u001b[0m \u001b[43m    \u001b[49m\u001b[43mssl_context\u001b[49m\u001b[38;5;241;43m=\u001b[39;49m\u001b[43mcontext\u001b[49m\u001b[43m,\u001b[49m\n\u001b[0;32m    816\u001b[0m \u001b[43m    \u001b[49m\u001b[43mtls_in_tls\u001b[49m\u001b[38;5;241;43m=\u001b[39;49m\u001b[43mtls_in_tls\u001b[49m\u001b[43m,\u001b[49m\n\u001b[0;32m    817\u001b[0m \u001b[43m\u001b[49m\u001b[43m)\u001b[49m\n\u001b[0;32m    819\u001b[0m \u001b[38;5;28;01mtry\u001b[39;00m:\n\u001b[0;32m    820\u001b[0m     \u001b[38;5;28;01mif\u001b[39;00m assert_fingerprint:\n",
      "File \u001b[1;32mc:\\Users\\micha\\Documents\\programming projects\\kexp on gcp\\kexp_venv\\Lib\\site-packages\\urllib3\\util\\ssl_.py:440\u001b[0m, in \u001b[0;36mssl_wrap_socket\u001b[1;34m(sock, keyfile, certfile, cert_reqs, ca_certs, server_hostname, ssl_version, ciphers, ssl_context, ca_cert_dir, key_password, ca_cert_data, tls_in_tls)\u001b[0m\n\u001b[0;32m    438\u001b[0m \u001b[38;5;28;01mif\u001b[39;00m ca_certs \u001b[38;5;129;01mor\u001b[39;00m ca_cert_dir \u001b[38;5;129;01mor\u001b[39;00m ca_cert_data:\n\u001b[0;32m    439\u001b[0m     \u001b[38;5;28;01mtry\u001b[39;00m:\n\u001b[1;32m--> 440\u001b[0m         \u001b[43mcontext\u001b[49m\u001b[38;5;241;43m.\u001b[39;49m\u001b[43mload_verify_locations\u001b[49m\u001b[43m(\u001b[49m\u001b[43mca_certs\u001b[49m\u001b[43m,\u001b[49m\u001b[43m \u001b[49m\u001b[43mca_cert_dir\u001b[49m\u001b[43m,\u001b[49m\u001b[43m \u001b[49m\u001b[43mca_cert_data\u001b[49m\u001b[43m)\u001b[49m\n\u001b[0;32m    441\u001b[0m     \u001b[38;5;28;01mexcept\u001b[39;00m \u001b[38;5;167;01mOSError\u001b[39;00m \u001b[38;5;28;01mas\u001b[39;00m e:\n\u001b[0;32m    442\u001b[0m         \u001b[38;5;28;01mraise\u001b[39;00m SSLError(e) \u001b[38;5;28;01mfrom\u001b[39;00m \u001b[38;5;21;01me\u001b[39;00m\n",
      "\u001b[1;31mKeyboardInterrupt\u001b[0m: "
     ]
    }
   ],
   "source": [
    "while programs_json['next'] != None:\n",
    "    programs = requests.get(programs_json['next'])\n",
    "    hosts_json=programs.json()\n",
    "    # Create a session\n",
    "    Session = sessionmaker(bind=engine)\n",
    "    session = Session()\n",
    "        \n",
    "    # Insert data into the table\n",
    "    try:\n",
    "        for data in hosts_json['results']:\n",
    "            user = Hosts(**data)\n",
    "            session.add(user)\n",
    "\n",
    "        # Commit the transaction\n",
    "        session.commit()\n",
    "        print(\"Data inserted successfully!\")\n",
    "\n",
    "    except Exception as e:\n",
    "        # Roll back the transaction if an error occurs\n",
    "        session.rollback()\n",
    "        print(f\"Error: {e}\")\n",
    "\n",
    "    finally:\n",
    "        # Close the session\n",
    "        session.close()"
   ]
  },
  {
   "cell_type": "markdown",
   "metadata": {},
   "source": [
    "## Delete Table"
   ]
  },
  {
   "cell_type": "code",
   "execution_count": null,
   "metadata": {},
   "outputs": [],
   "source": [
    "# connect to connection pool\n",
    "with pool.connect() as db_conn:\n",
    "  # delete plays table in our kexp-sandbox database\n",
    "  db_conn.execute(sqlalchemy.text('DROP TABLE plays'))\n",
    "\n",
    "  # commit transaction (SQLAlchemy v2.X.X is commit as you go)\n",
    "  db_conn.commit()\n",
    "\n",
    "  # create plays table in our kexp-sandbox database\n",
    "  db_conn.execute(sqlalchemy.text(openfile(root_path+'plays.sql')))\n",
    "\n",
    "  # commit transaction (SQLAlchemy v2.X.X is commit as you go)\n",
    "  db_conn.commit()"
   ]
  }
 ],
 "metadata": {
  "kernelspec": {
   "display_name": "kexp_venv",
   "language": "python",
   "name": "python3"
  },
  "language_info": {
   "codemirror_mode": {
    "name": "ipython",
    "version": 3
   },
   "file_extension": ".py",
   "mimetype": "text/x-python",
   "name": "python",
   "nbconvert_exporter": "python",
   "pygments_lexer": "ipython3",
   "version": "3.11.8"
  }
 },
 "nbformat": 4,
 "nbformat_minor": 2
}
