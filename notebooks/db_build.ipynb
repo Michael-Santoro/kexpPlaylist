{
 "cells": [
  {
   "cell_type": "markdown",
   "metadata": {},
   "source": [
    "## Create Tables in Data Base\n",
    "\n",
    "Tutorial [Link](https://colab.research.google.com/github/GoogleCloudPlatform/cloud-sql-python-connector/blob/main/samples/notebooks/mysql_python_connector.ipynb#scrollTo=wfEvH386zX2V)"
   ]
  },
  {
   "cell_type": "code",
   "execution_count": 2,
   "metadata": {},
   "outputs": [],
   "source": [
    "# !gcloud sql databases create kexpDB --instance=kexp-sandbox"
   ]
  },
  {
   "cell_type": "code",
   "execution_count": 1,
   "metadata": {},
   "outputs": [],
   "source": [
    "import google.auth\n",
    "\n",
    "credentials, project_id = google.auth.default()\n",
    "\n",
    "# install dependencies\n",
    "# pip install cloud-sql-python-connector[\"pymysql\"] SQLAlchemy==2.0.7\n",
    "\n",
    "import sys\n",
    "if '..' not in sys.path:\n",
    "    sys.path.append('..')\n",
    "\n",
    "from scripts.utils import openfile\n",
    "\n",
    "\n",
    "from google.cloud.sql.connector import Connector\n",
    "import sqlalchemy\n",
    "from sqlalchemy import MetaData\n",
    "from creds import user"
   ]
  },
  {
   "cell_type": "code",
   "execution_count": 2,
   "metadata": {},
   "outputs": [
    {
     "name": "stdout",
     "output_type": "stream",
     "text": [
      "Your instance connection name is: kexp-explore:us-central1:kexp-sandbox\n"
     ]
    }
   ],
   "source": [
    "# initialize parameters\n",
    "INSTANCE_CONNECTION_NAME = user['INSTANCE_CONNECTION_NAME']# i.e demo-project:us-central1:demo-instance\n",
    "print(f\"Your instance connection name is: {INSTANCE_CONNECTION_NAME}\")\n",
    "DB_USER = user['DB_USER']\n",
    "DB_PASS = user['DB_PASS']\n",
    "DB_NAME = user['DB_NAME']\n",
    "\n",
    "\n",
    "root_path = user['root_path']"
   ]
  },
  {
   "cell_type": "code",
   "execution_count": 3,
   "metadata": {},
   "outputs": [],
   "source": [
    "\n",
    "\n",
    "# initialize Connector object\n",
    "connector = Connector()\n",
    "\n",
    "# function to return the database connection object\n",
    "def getconn():\n",
    "    conn = connector.connect(\n",
    "        INSTANCE_CONNECTION_NAME,\n",
    "        \"pymysql\",\n",
    "        user=DB_USER,\n",
    "        password=DB_PASS,\n",
    "        db=DB_NAME\n",
    "    )\n",
    "    return conn\n",
    "\n",
    "# create connection pool with 'creator' argument to our connection object function\n",
    "pool = sqlalchemy.create_engine(\n",
    "    \"mysql+pymysql://\",\n",
    "    creator=getconn,\n",
    ")\n",
    "\n",
    "engine = pool"
   ]
  },
  {
   "cell_type": "code",
   "execution_count": 4,
   "metadata": {},
   "outputs": [
    {
     "name": "stdout",
     "output_type": "stream",
     "text": [
      "Table name: hosts\n",
      "Table name: plays\n",
      "Table name: programs\n",
      "Table name: shows\n"
     ]
    }
   ],
   "source": [
    "# Create a MetaData object\n",
    "metadata = MetaData()\n",
    "\n",
    "# Reflect the existing database schema into the MetaData object\n",
    "metadata.reflect(bind=engine)\n",
    "\n",
    "# Access information about tables in the 'tables' dictionary attribute\n",
    "for table_name, table in metadata.tables.items():\n",
    "    print(f\"Table name: {table_name}\")\n",
    "    # Access columns, constraints, etc. through the 'table' object\n"
   ]
  },
  {
   "cell_type": "code",
   "execution_count": 5,
   "metadata": {},
   "outputs": [
    {
     "data": {
      "text/plain": [
       "dict_items([('hosts', Table('hosts', MetaData(), Column('id', INTEGER(), table=<hosts>, primary_key=True, nullable=False), Column('uri', VARCHAR(length=255), table=<hosts>, nullable=False), Column('name', VARCHAR(length=100), table=<hosts>, nullable=False), Column('image_uri', VARCHAR(length=255), table=<hosts>), Column('thumbnail_uri', VARCHAR(length=255), table=<hosts>), Column('is_active', TINYINT(display_width=1), table=<hosts>, nullable=False), schema=None)), ('plays', Table('plays', MetaData(), Column('id', INTEGER(), table=<plays>, primary_key=True, nullable=False), Column('uri', VARCHAR(length=255), table=<plays>, nullable=False), Column('airdate', TIMESTAMP(), table=<plays>, nullable=False), Column('show_id', INTEGER(), table=<plays>, nullable=False), Column('song', VARCHAR(length=255), table=<plays>, nullable=False), Column('track_id', VARCHAR(length=255), table=<plays>, nullable=False), Column('recording_id', VARCHAR(length=255), table=<plays>, nullable=False), Column('artist', VARCHAR(length=255), table=<plays>, nullable=False), Column('album', VARCHAR(length=255), table=<plays>, nullable=False), Column('release_id', VARCHAR(length=255), table=<plays>), Column('release_group_id', VARCHAR(length=255), table=<plays>), Column('release_date', VARCHAR(length=255), table=<plays>), Column('is_local', TINYINT(display_width=1), table=<plays>), Column('is_request', TINYINT(display_width=1), table=<plays>), Column('is_live', TINYINT(display_width=1), table=<plays>), Column('comment', TEXT(), table=<plays>), schema=None)), ('programs', Table('programs', MetaData(), Column('id', INTEGER(), table=<programs>, primary_key=True, nullable=False), Column('uri', VARCHAR(length=255), table=<programs>, nullable=False), Column('name', VARCHAR(length=100), table=<programs>, nullable=False), Column('description', TEXT(), table=<programs>, nullable=False), Column('tags', VARCHAR(length=255), table=<programs>), Column('is_active', TINYINT(display_width=1), table=<programs>, nullable=False), schema=None)), ('shows', Table('shows', MetaData(), Column('id', INTEGER(), table=<shows>, primary_key=True, nullable=False), Column('uri', VARCHAR(length=255), table=<shows>, nullable=False), Column('program', INTEGER(), table=<shows>, nullable=False), Column('program_uri', VARCHAR(length=255), table=<shows>), Column('hosts', VARCHAR(length=2550), table=<shows>), Column('program_name', VARCHAR(length=255), table=<shows>), Column('program_tags', VARCHAR(length=255), table=<shows>), Column('tagline', TEXT(), table=<shows>), Column('image_uri', VARCHAR(length=255), table=<shows>), Column('start_time', TIMESTAMP(), table=<shows>, nullable=False), schema=None))])"
      ]
     },
     "execution_count": 5,
     "metadata": {},
     "output_type": "execute_result"
    }
   ],
   "source": [
    "metadata.tables.items()"
   ]
  },
  {
   "cell_type": "code",
   "execution_count": 6,
   "metadata": {},
   "outputs": [
    {
     "name": "stdout",
     "output_type": "stream",
     "text": [
      "File contents:\n",
      "CREATE TABLE IF NOT EXISTS hosts (\n",
      "                id INT PRIMARY KEY,\n",
      "                uri VARCHAR(255) UNIQUE NOT NULL,\n",
      "                name VARCHAR(100) UNIQUE NOT NULL,\n",
      "                image_uri VARCHAR(255),\n",
      "                thumbnail_uri VARCHAR(255),\n",
      "                is_active BOOL NOT NULL\n",
      "            );\n",
      "File contents:\n",
      "CREATE TABLE IF NOT EXISTS plays (\n",
      "                id INT PRIMARY KEY,\n",
      "                uri VARCHAR(255) UNIQUE NOT NULL,\n",
      "                airdate TIMESTAMP NOT NULL,\n",
      "                show_id INT NOT NULL,\n",
      "                song VARCHAR(255) NOT NULL,\n",
      "                track_id VARCHAR(255) NOT NULL,\n",
      "                recording_id VARCHAR(255) NOT NULL,\n",
      "                artist VARCHAR(255) NOT NULL,\n",
      "                album VARCHAR(255) NOT NULL,\n",
      "                release_id VARCHAR(255),\n",
      "                release_group_id VARCHAR(255),\n",
      "                release_date VARCHAR(255),\n",
      "                is_local BOOL,\n",
      "                is_request BOOL,\n",
      "                is_live BOOL,\n",
      "                comment TEXT);\n",
      "File contents:\n",
      "CREATE TABLE IF NOT EXISTS programs (\n",
      "                id INT PRIMARY KEY,\n",
      "                uri VARCHAR(255) UNIQUE NOT NULL,\n",
      "                name VARCHAR(100) UNIQUE NOT NULL,\n",
      "                description TEXT NOT NULL,\n",
      "                tags VARCHAR(255),\n",
      "                is_active BOOL NOT NULL\n",
      "            );\n",
      "File contents:\n",
      "CREATE TABLE IF NOT EXISTS shows (\n",
      "                id INT PRIMARY KEY,\n",
      "                uri VARCHAR(255) UNIQUE NOT NULL,\n",
      "                program INT NOT NULL,\n",
      "                program_uri VARCHAR(255),\n",
      "                hosts VARCHAR(2550),\n",
      "                program_name VARCHAR(255),\n",
      "                program_tags VARCHAR(255),\n",
      "                tagline TEXT,\n",
      "                image_uri VARCHAR(255),\n",
      "                start_time TIMESTAMP NOT NUll\n",
      "            );\n",
      "File contents:\n",
      "CREATE TABLE IF NOT EXISTS timeslots (\n",
      "                id INT PRIMARY KEY,\n",
      "                uri VARCHAR(255) UNIQUE NOT NULL,\n",
      "                program INT NOT NULL,\n",
      "                program_uri VARCHAR(255),\n",
      "                program_name VARCHAR(255),\n",
      "                program_tags VARCHAR(255),\n",
      "                weekday INT,\n",
      "                start_date DATE,\n",
      "                end_date TIME,\n",
      "                start_time TIME,\n",
      "                end_time TIME,\n",
      "                duration TIME\n",
      "            );\n"
     ]
    }
   ],
   "source": [
    "\n",
    "\n",
    "# connect to connection pool\n",
    "with pool.connect() as db_conn:\n",
    "  # create hosts table in our kexp-sandbox database\n",
    "  db_conn.execute(sqlalchemy.text(openfile(root_path+'hosts.sql')))\n",
    "\n",
    "  # commit transaction (SQLAlchemy v2.X.X is commit as you go)\n",
    "  db_conn.commit()\n",
    "\n",
    "  # create plays table in our kexp-sandbox database\n",
    "  db_conn.execute(sqlalchemy.text(openfile(root_path+'plays.sql')))\n",
    "\n",
    "  # commit transaction (SQLAlchemy v2.X.X is commit as you go)\n",
    "  db_conn.commit()\n",
    "\n",
    "  # create programs table in our kexp-sandbox database\n",
    "  db_conn.execute(sqlalchemy.text(openfile(root_path+'programs.sql')))\n",
    "\n",
    "  # commit transaction (SQLAlchemy v2.X.X is commit as you go)\n",
    "  db_conn.commit()\n",
    "\n",
    "  # create shows table in our kexp-sandbox database\n",
    "  db_conn.execute(sqlalchemy.text(openfile(root_path+'shows.sql')))\n",
    "\n",
    "  # commit transaction (SQLAlchemy v2.X.X is commit as you go)\n",
    "  db_conn.commit()\n",
    "\n",
    "  # create timeslots table in our kexp-sandbox database\n",
    "  db_conn.execute(sqlalchemy.text(openfile(root_path+'timeslots.sql')))\n",
    "\n",
    "  # commit transaction (SQLAlchemy v2.X.X is commit as you go)\n",
    "  db_conn.commit()\n"
   ]
  },
  {
   "cell_type": "code",
   "execution_count": 7,
   "metadata": {},
   "outputs": [
    {
     "name": "stdout",
     "output_type": "stream",
     "text": [
      "hosts\n",
      "plays\n",
      "programs\n",
      "shows\n",
      "timeslots\n"
     ]
    }
   ],
   "source": [
    "# Reflect the existing database schema into the MetaData object\n",
    "metadata.reflect(bind=engine)\n",
    "\n",
    "for t in metadata.tables.items():\n",
    "    print(t[0])"
   ]
  },
  {
   "cell_type": "markdown",
   "metadata": {},
   "source": [
    "## Populate Tables"
   ]
  },
  {
   "cell_type": "code",
   "execution_count": null,
   "metadata": {},
   "outputs": [],
   "source": []
  }
 ],
 "metadata": {
  "kernelspec": {
   "display_name": "kexp_venv",
   "language": "python",
   "name": "python3"
  },
  "language_info": {
   "codemirror_mode": {
    "name": "ipython",
    "version": 3
   },
   "file_extension": ".py",
   "mimetype": "text/x-python",
   "name": "python",
   "nbconvert_exporter": "python",
   "pygments_lexer": "ipython3",
   "version": "3.11.8"
  }
 },
 "nbformat": 4,
 "nbformat_minor": 2
}
